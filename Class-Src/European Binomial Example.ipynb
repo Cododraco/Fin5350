{
 "cells": [
  {
   "cell_type": "code",
   "execution_count": 1,
   "metadata": {
    "collapsed": true
   },
   "outputs": [],
   "source": [
    "import numpy as np\n",
    "from scipy.stats import binom"
   ]
  },
  {
   "cell_type": "code",
   "execution_count": 2,
   "metadata": {
    "collapsed": true
   },
   "outputs": [],
   "source": [
    "# Set up input variables\n",
    "spot = 41.0\n",
    "strike = 40.0\n",
    "rate = 0.08\n",
    "sigma = 0.30\n",
    "expiry = 1.0\n",
    "steps = 3\n",
    "nodes = steps + 1\n",
    "h = expiry / steps\n"
   ]
  },
  {
   "cell_type": "code",
   "execution_count": 4,
   "metadata": {
    "collapsed": false
   },
   "outputs": [],
   "source": [
    "# the Call payoff\n",
    "def call_payoff(spot, strike):\n",
    "    return np.maximum(spot - strike, 0.0)"
   ]
  },
  {
   "cell_type": "code",
   "execution_count": 5,
   "metadata": {
    "collapsed": false
   },
   "outputs": [
    {
     "name": "stdout",
     "output_type": "stream",
     "text": [
      "Variable      Type         Data/Info\n",
      "------------------------------------\n",
      "binom         binom_gen    <scipy.stats._discrete_di<...>ct at 0x000000FA3DAFACF8>\n",
      "call_payoff   function     <function call_payoff at 0x000000FA3D9E5C80>\n",
      "expiry        float        1.0\n",
      "h             float        0.3333333333333333\n",
      "nodes         int          4\n",
      "np            module       <module 'numpy' from 'C:\\<...>ges\\\\numpy\\\\__init__.py'>\n",
      "rate          float        0.08\n",
      "sigma         float        0.3\n",
      "spot          float        41.0\n",
      "steps         int          3\n",
      "strike        float        40.0\n"
     ]
    }
   ],
   "source": [
    "whos"
   ]
  },
  {
   "cell_type": "code",
   "execution_count": 6,
   "metadata": {
    "collapsed": true
   },
   "outputs": [],
   "source": [
    "# u, d, pstar\n",
    "u = np.exp(rate * h + sigma * np.sqrt(h))\n",
    "d = np.exp(rate * h - sigma * np.sqrt(h))\n",
    "pstar = (np.exp(rate * h) - d) / (u - d)"
   ]
  },
  {
   "cell_type": "code",
   "execution_count": 7,
   "metadata": {
    "collapsed": false
   },
   "outputs": [
    {
     "data": {
      "text/plain": [
       "1.2212461201543867"
      ]
     },
     "execution_count": 7,
     "metadata": {},
     "output_type": "execute_result"
    }
   ],
   "source": [
    "u"
   ]
  },
  {
   "cell_type": "code",
   "execution_count": 8,
   "metadata": {
    "collapsed": false
   },
   "outputs": [
    {
     "data": {
      "text/plain": [
       "0.86369255373382114"
      ]
     },
     "execution_count": 8,
     "metadata": {},
     "output_type": "execute_result"
    }
   ],
   "source": [
    "d"
   ]
  },
  {
   "cell_type": "code",
   "execution_count": 9,
   "metadata": {
    "collapsed": false
   },
   "outputs": [
    {
     "data": {
      "text/plain": [
       "0.45680665920961433"
      ]
     },
     "execution_count": 9,
     "metadata": {},
     "output_type": "execute_result"
    }
   ],
   "source": [
    "pstar"
   ]
  },
  {
   "cell_type": "code",
   "execution_count": 10,
   "metadata": {
    "collapsed": true
   },
   "outputs": [],
   "source": [
    "binom.pmf?"
   ]
  },
  {
   "cell_type": "code",
   "execution_count": 38,
   "metadata": {
    "collapsed": false
   },
   "outputs": [],
   "source": [
    "# the main loop\n",
    "total = 0.0\n",
    "\n",
    "spotT = np.zeros((nodes))\n",
    "callT = np.zeros((nodes))\n",
    "probT = np.zeros((nodes))\n",
    "\n",
    "disc = np.exp(-rate * expiry)\n",
    "\n",
    "for i in range(nodes):\n",
    "    spotT[i] = spot * (u ** (steps - i)) * (d ** (i))\n",
    "    callT[i] = call_payoff(spotT[i], strike)\n",
    "    probT[i] = binom.pmf(steps - i, steps, pstar)\n",
    "    #print(spotT, callT, probT)\n",
    "    total += callT[i] * probT\n",
    "    \n",
    "#call_price = np.exp(-rate * expiry) * sum \n",
    "#print(\"The Call Price is: {0:0.3f}\".format(call_price))"
   ]
  },
  {
   "cell_type": "code",
   "execution_count": 39,
   "metadata": {
    "collapsed": true
   },
   "outputs": [],
   "source": [
    "# the main loop\n",
    "total = 0.0\n",
    "disc = np.exp(-rate * expiry)\n",
    "\n",
    "for i in range(nodes):\n",
    "    spotT = spot * (u ** (steps - i)) * (d ** (i))\n",
    "    callT = call_payoff(spotT, strike)\n",
    "    probT = binom.pmf(steps - i, steps, pstar)\n",
    "    #print(spotT, callT, probT)\n",
    "    total += callT * probT\n",
    "    \n",
    "#call_price = np.exp(-rate * expiry) * sum \n",
    "#print(\"The Call Price is: {0:0.3f}\".format(call_price))"
   ]
  },
  {
   "cell_type": "code",
   "execution_count": 26,
   "metadata": {
    "collapsed": false
   },
   "outputs": [
    {
     "data": {
      "text/plain": [
       "array([ 74.6781323 ,  52.81404438,  37.3512727 ,  26.41565494])"
      ]
     },
     "execution_count": 26,
     "metadata": {},
     "output_type": "execute_result"
    }
   ],
   "source": [
    "spotT"
   ]
  },
  {
   "cell_type": "code",
   "execution_count": 27,
   "metadata": {
    "collapsed": false
   },
   "outputs": [
    {
     "data": {
      "text/plain": [
       "array([ 34.6781323 ,  12.81404438,   0.        ,   0.        ])"
      ]
     },
     "execution_count": 27,
     "metadata": {},
     "output_type": "execute_result"
    }
   ],
   "source": [
    "callT"
   ]
  },
  {
   "cell_type": "code",
   "execution_count": 28,
   "metadata": {
    "collapsed": false
   },
   "outputs": [
    {
     "data": {
      "text/plain": [
       "array([ 0.09532291,  0.34004825,  0.40435476,  0.16027409])"
      ]
     },
     "execution_count": 28,
     "metadata": {},
     "output_type": "execute_result"
    }
   ],
   "source": [
    "probT"
   ]
  },
  {
   "cell_type": "code",
   "execution_count": 30,
   "metadata": {
    "collapsed": false
   },
   "outputs": [],
   "source": [
    "price = callT * probT"
   ]
  },
  {
   "cell_type": "code",
   "execution_count": 36,
   "metadata": {
    "collapsed": false
   },
   "outputs": [
    {
     "data": {
      "text/plain": [
       "7.6630137565724787"
      ]
     },
     "execution_count": 36,
     "metadata": {},
     "output_type": "execute_result"
    }
   ],
   "source": [
    "price.sum()"
   ]
  },
  {
   "cell_type": "code",
   "execution_count": 33,
   "metadata": {
    "collapsed": false
   },
   "outputs": [
    {
     "data": {
      "text/plain": [
       "0.92311634638663576"
      ]
     },
     "execution_count": 33,
     "metadata": {},
     "output_type": "execute_result"
    }
   ],
   "source": [
    "disc"
   ]
  },
  {
   "cell_type": "code",
   "execution_count": 41,
   "metadata": {
    "collapsed": false
   },
   "outputs": [
    {
     "data": {
      "text/plain": [
       "7.0738532612777147"
      ]
     },
     "execution_count": 41,
     "metadata": {},
     "output_type": "execute_result"
    }
   ],
   "source": [
    "total * disc"
   ]
  },
  {
   "cell_type": "code",
   "execution_count": 43,
   "metadata": {
    "collapsed": true
   },
   "outputs": [],
   "source": [
    "# This is your homework portion!\n",
    "def EuropeanCallBinomial(stuff):\n",
    "    pass"
   ]
  },
  {
   "cell_type": "code",
   "execution_count": null,
   "metadata": {
    "collapsed": true
   },
   "outputs": [],
   "source": []
  }
 ],
 "metadata": {
  "anaconda-cloud": {},
  "kernelspec": {
   "display_name": "Python [default]",
   "language": "python",
   "name": "python3"
  },
  "language_info": {
   "codemirror_mode": {
    "name": "ipython",
    "version": 3
   },
   "file_extension": ".py",
   "mimetype": "text/x-python",
   "name": "python",
   "nbconvert_exporter": "python",
   "pygments_lexer": "ipython3",
   "version": "3.5.2"
  }
 },
 "nbformat": 4,
 "nbformat_minor": 1
}
