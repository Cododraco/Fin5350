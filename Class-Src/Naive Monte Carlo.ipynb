{
 "cells": [
  {
   "cell_type": "markdown",
   "metadata": {},
   "source": [
    "## Naive Monte Carlo Option Pricing\n",
    "\n",
    "The Monte Carlo option pricing algorithm:\n",
    "\n",
    "for $i = 1, 2, \\ldots, M$ \n",
    "\n",
    "1. Set $S_{0,i}$ = spot price\n",
    "\n",
    "2. Simulate from: $S_{T,i} = S_{0}\\exp{ \\left[ \\left(r - \\frac{1}{2} \\sigma^{2} \\right) + \\sigma \\sqrt{T} \\varepsilon \\right]}$\n",
    "\n",
    "3. Apply the option payoff (in this case for a Call): $C_{T,i} = \\max{(S_{T,i} - K, 0)}$\n",
    "\n",
    "Finally,\n",
    "\n",
    "4. $\\hat{C}_{0} = \\exp{-r \\times T} \\left[\\frac{1}{M} \\sum\\limits_{i=1}^{M} C_{T,i} \\right]$"
   ]
  },
  {
   "cell_type": "markdown",
   "metadata": {},
   "source": [
    "## In a Loop"
   ]
  },
  {
   "cell_type": "code",
   "execution_count": 2,
   "metadata": {
    "collapsed": false
   },
   "outputs": [
    {
     "name": "stdout",
     "output_type": "stream",
     "text": [
      "The Call Price is: 6.957\n"
     ]
    }
   ],
   "source": [
    "import numpy as np\n",
    "\n",
    "## set up the standard problem\n",
    "spot = 41.0\n",
    "strike = 40.0\n",
    "expiry = 1.0\n",
    "rate = 0.08\n",
    "sigma = 0.30\n",
    "M = 50000\n",
    "\n",
    "## The main simulation loop\n",
    "spotT = np.zeros((M, ))\n",
    "callT = np.zeros((M, ))\n",
    "\n",
    "for i in range(M):\n",
    "    z = np.random.normal(size=1)\n",
    "    spotT[i] = spot * np.exp((rate - 0.5 * sigma * sigma)* expiry + sigma * np.sqrt(expiry) * z)\n",
    "    callT[i] = np.maximum(spotT[i] - strike, 0.0)\n",
    "\n",
    "price = np.exp(-rate * expiry) * callT.mean()\n",
    "print(\"The Call Price is: {0:.3f}\".format(price))"
   ]
  },
  {
   "cell_type": "markdown",
   "metadata": {},
   "source": [
    "## Vectorized"
   ]
  },
  {
   "cell_type": "code",
   "execution_count": 3,
   "metadata": {
    "collapsed": false
   },
   "outputs": [
    {
     "name": "stdout",
     "output_type": "stream",
     "text": [
      "The Call Price is: 6.955\n"
     ]
    }
   ],
   "source": [
    "z = np.random.normal(size=M)\n",
    "spotT = spot * np.exp((rate - 0.5 * sigma * sigma)* expiry + sigma * np.sqrt(expiry) * z)\n",
    "callT = np.maximum(spotT - strike, 0.0)\n",
    "\n",
    "price = np.exp(-rate * expiry) * callT.mean()\n",
    "print(\"The Call Price is: {0:.3f}\".format(price))"
   ]
  },
  {
   "cell_type": "markdown",
   "metadata": {},
   "source": [
    "## Only Slightly Less Naive (Antithetic Sampling)"
   ]
  },
  {
   "cell_type": "code",
   "execution_count": 9,
   "metadata": {
    "collapsed": false
   },
   "outputs": [
    {
     "name": "stdout",
     "output_type": "stream",
     "text": [
      "The Call Price is: 6.96 for 20000000 draws\n"
     ]
    }
   ],
   "source": [
    "M = 10000000\n",
    "z = np.random.normal(size=M)\n",
    "z = np.concatenate((z,-z))\n",
    "spotT = spot * np.exp((rate - 0.5 * sigma * sigma)* expiry + sigma * np.sqrt(expiry) * z)\n",
    "callT = np.maximum(spotT - strike, 0.0)\n",
    "\n",
    "price = np.exp(-rate * expiry) * callT.mean()\n",
    "print(\"The Call Price is: {0:.2f} for {1} draws\".format(price, len(callT)))"
   ]
  },
  {
   "cell_type": "code",
   "execution_count": null,
   "metadata": {
    "collapsed": true
   },
   "outputs": [],
   "source": []
  }
 ],
 "metadata": {
  "anaconda-cloud": {},
  "kernelspec": {
   "display_name": "Python [default]",
   "language": "python",
   "name": "python3"
  },
  "language_info": {
   "codemirror_mode": {
    "name": "ipython",
    "version": 3
   },
   "file_extension": ".py",
   "mimetype": "text/x-python",
   "name": "python",
   "nbconvert_exporter": "python",
   "pygments_lexer": "ipython3",
   "version": "3.5.2"
  }
 },
 "nbformat": 4,
 "nbformat_minor": 1
}
