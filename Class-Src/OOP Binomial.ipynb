{
 "cells": [
  {
   "cell_type": "code",
   "execution_count": 1,
   "metadata": {
    "collapsed": true
   },
   "outputs": [],
   "source": [
    "import numpy as np\n",
    "from scipy.stats import binom"
   ]
  },
  {
   "cell_type": "code",
   "execution_count": 2,
   "metadata": {
    "collapsed": true
   },
   "outputs": [],
   "source": [
    "class VanillaOption(object):\n",
    "    def __init__(self, strike, expiry):\n",
    "        self.strike = strike\n",
    "        self.expiry = expiry\n",
    "        \n",
    "    def payoff(self, spot):\n",
    "        pass\n",
    "    \n"
   ]
  },
  {
   "cell_type": "markdown",
   "metadata": {},
   "source": [
    "Here is the wikepedia article on [encapsulation](https://en.wikipedia.org/wiki/Encapsulation_(computer_programming))"
   ]
  },
  {
   "cell_type": "code",
   "execution_count": 3,
   "metadata": {
    "collapsed": true
   },
   "outputs": [],
   "source": [
    "class VanillaCallOption(VanillaOption):\n",
    "    def payoff(self, spot):\n",
    "        return np.maximum(spot - self.strike, 0.0)\n",
    "    \n",
    "class VanillaPutOption(VanillaOption):\n",
    "    def payoff(self, spot):\n",
    "        return np.maximum(self.strike - spot, 0.0)    "
   ]
  },
  {
   "cell_type": "markdown",
   "metadata": {},
   "source": [
    "# Instantiating Objects\n",
    "\n",
    "We can now create objects of these types as follows. First let's create a call option:"
   ]
  },
  {
   "cell_type": "code",
   "execution_count": 8,
   "metadata": {
    "collapsed": true
   },
   "outputs": [],
   "source": [
    "the_call = VanillaCallOption(40.0, 1.0)"
   ]
  },
  {
   "cell_type": "code",
   "execution_count": 9,
   "metadata": {
    "collapsed": false
   },
   "outputs": [
    {
     "name": "stdout",
     "output_type": "stream",
     "text": [
      "Variable            Type                 Data/Info\n",
      "--------------------------------------------------\n",
      "VanillaCallOption   type                 <class '__main__.VanillaCallOption'>\n",
      "VanillaOption       type                 <class '__main__.VanillaOption'>\n",
      "VanillaPutOption    type                 <class '__main__.VanillaPutOption'>\n",
      "binom               binom_gen            <scipy.stats._discrete_di<...>ct at 0x000000366D4A3CC0>\n",
      "np                  module               <module 'numpy' from 'C:\\<...>ges\\\\numpy\\\\__init__.py'>\n",
      "po                  float64              0.0\n",
      "spot                float                40.0\n",
      "the_call            VanillaCallOption    <__main__.VanillaCallOpti<...>ct at 0x000000366D3D4DD8>\n"
     ]
    }
   ],
   "source": [
    "whos"
   ]
  },
  {
   "cell_type": "code",
   "execution_count": 19,
   "metadata": {
    "collapsed": false
   },
   "outputs": [
    {
     "name": "stdout",
     "output_type": "stream",
     "text": [
      "The Call Payoff for spot price 41.00 is: 1.00\n"
     ]
    }
   ],
   "source": [
    "spot = 41.0\n",
    "po = the_call.payoff(spot)\n",
    "print(\"The Call Payoff for spot price {0:0.2f} is: {1:0.2f}\".format(spot, po))"
   ]
  },
  {
   "cell_type": "code",
   "execution_count": 20,
   "metadata": {
    "collapsed": true
   },
   "outputs": [],
   "source": [
    "the_other_call = VanillaCallOption(52.0, 0.5)"
   ]
  },
  {
   "cell_type": "code",
   "execution_count": 12,
   "metadata": {
    "collapsed": false
   },
   "outputs": [
    {
     "name": "stdout",
     "output_type": "stream",
     "text": [
      "Variable            Type                 Data/Info\n",
      "--------------------------------------------------\n",
      "VanillaCallOption   type                 <class '__main__.VanillaCallOption'>\n",
      "VanillaOption       type                 <class '__main__.VanillaOption'>\n",
      "VanillaPutOption    type                 <class '__main__.VanillaPutOption'>\n",
      "binom               binom_gen            <scipy.stats._discrete_di<...>ct at 0x000000366D4A3CC0>\n",
      "np                  module               <module 'numpy' from 'C:\\<...>ges\\\\numpy\\\\__init__.py'>\n",
      "po                  float64              1.0\n",
      "spot                float                41.0\n",
      "the_call            VanillaCallOption    <__main__.VanillaCallOpti<...>ct at 0x000000366D3D4DD8>\n",
      "the_other_call      VanillaCallOption    <__main__.VanillaCallOpti<...>ct at 0x000000366D3D4E80>\n"
     ]
    }
   ],
   "source": [
    "whos\n"
   ]
  },
  {
   "cell_type": "markdown",
   "metadata": {},
   "source": [
    "Next create some puts:"
   ]
  },
  {
   "cell_type": "code",
   "execution_count": 18,
   "metadata": {
    "collapsed": false
   },
   "outputs": [
    {
     "name": "stdout",
     "output_type": "stream",
     "text": [
      "The put payoff for a spot price of 38.00 is: 2.00\n"
     ]
    }
   ],
   "source": [
    "spot = 38.0\n",
    "the_put = VanillaPutOption(40.0, 1.0)\n",
    "the_put_po = the_put.payoff(spot)\n",
    "print(\"The put payoff for a spot price of {0:0.2f} is: {1:0.2f}\".format(spot, the_put_po))"
   ]
  },
  {
   "cell_type": "markdown",
   "metadata": {},
   "source": [
    "## Polymorphism\n",
    "\n",
    "Here is the wikipedia article on [polymorphism](https://en.wikipedia.org/wiki/Polymorphism_(computer_science))\n",
    "\n",
    "First let's make the pricing function for the European Binomial Model (EBM):"
   ]
  },
  {
   "cell_type": "code",
   "execution_count": 21,
   "metadata": {
    "collapsed": true
   },
   "outputs": [],
   "source": [
    "def EuropeanBinomialPricer(option, spot, rate, sigma, steps):\n",
    "    expiry = option.expiry\n",
    "    h = expiry / steps\n",
    "    nodes = steps\n",
    "    u = np.exp(rate * h + sigma * np.sqrt(h))\n",
    "    d = np.exp(rate * h - sigma * np.sqrt(h))\n",
    "    pstar = (np.exp(rate * h) - d) / (u - d)\n",
    "    total = 0.0\n",
    "    disc = np.exp(-rate * expiry)\n",
    "\n",
    "    for i in range(nodes):\n",
    "        spotT = spot * (u ** (steps - i)) * (d ** (i))\n",
    "        callT = option.payoff(spotT)\n",
    "        probT = binom.pmf(steps - i, steps, pstar)\n",
    "        total += callT * probT\n",
    "        \n",
    "    return disc * total"
   ]
  },
  {
   "cell_type": "code",
   "execution_count": 22,
   "metadata": {
    "collapsed": false
   },
   "outputs": [
    {
     "name": "stdout",
     "output_type": "stream",
     "text": [
      "The Call Price is: 7.074\n"
     ]
    }
   ],
   "source": [
    "spot = 41.0\n",
    "rate = 0.08\n",
    "sigma = 0.30\n",
    "steps = 3\n",
    "the_call_price = EuropeanBinomialPricer(the_call, spot, rate, sigma, steps)\n",
    "print(\"The Call Price is: {0:0.3f}\".format(the_call_price))"
   ]
  },
  {
   "cell_type": "markdown",
   "metadata": {},
   "source": [
    "## Your Homework\n",
    "\n",
    "In the code cell below, create the `AmericanBinomialPricer`"
   ]
  },
  {
   "cell_type": "code",
   "execution_count": 23,
   "metadata": {
    "collapsed": true
   },
   "outputs": [],
   "source": [
    "def AmericanBinomialPricer(option, spot, rate, sigma, steps):\n",
    "    pass"
   ]
  },
  {
   "cell_type": "code",
   "execution_count": 24,
   "metadata": {
    "collapsed": false
   },
   "outputs": [
    {
     "data": {
      "text/plain": [
       "1.0"
      ]
     },
     "execution_count": 24,
     "metadata": {},
     "output_type": "execute_result"
    }
   ],
   "source": [
    "the_call.expiry"
   ]
  },
  {
   "cell_type": "code",
   "execution_count": null,
   "metadata": {
    "collapsed": true
   },
   "outputs": [],
   "source": []
  }
 ],
 "metadata": {
  "anaconda-cloud": {},
  "kernelspec": {
   "display_name": "Python [default]",
   "language": "python",
   "name": "python3"
  },
  "language_info": {
   "codemirror_mode": {
    "name": "ipython",
    "version": 3
   },
   "file_extension": ".py",
   "mimetype": "text/x-python",
   "name": "python",
   "nbconvert_exporter": "python",
   "pygments_lexer": "ipython3",
   "version": "3.5.2"
  }
 },
 "nbformat": 4,
 "nbformat_minor": 1
}
