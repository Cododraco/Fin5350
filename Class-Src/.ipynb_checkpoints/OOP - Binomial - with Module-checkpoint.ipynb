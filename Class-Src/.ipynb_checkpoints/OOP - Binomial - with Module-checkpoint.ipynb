{
 "cells": [
  {
   "cell_type": "code",
   "execution_count": 30,
   "metadata": {
    "collapsed": true
   },
   "outputs": [],
   "source": [
    "import numpy as np\n",
    "from scipy.stats import binom"
   ]
  },
  {
   "cell_type": "code",
   "execution_count": 31,
   "metadata": {
    "collapsed": false
   },
   "outputs": [],
   "source": [
    "from payoff import *"
   ]
  },
  {
   "cell_type": "code",
   "execution_count": 11,
   "metadata": {
    "collapsed": false
   },
   "outputs": [
    {
     "name": "stdout",
     "output_type": "stream",
     "text": [
      "Variable            Type         Data/Info\n",
      "------------------------------------------\n",
      "VanillaCallOption   type         <class 'payoff.VanillaCallOption'>\n",
      "VanillaOption       type         <class 'payoff.VanillaOption'>\n",
      "VanillaPutOption    type         <class 'payoff.VanillaPutOption'>\n",
      "binom               binom_gen    <scipy.stats._discrete_di<...>ct at 0x0000001D205DBBA8>\n",
      "np                  module       <module 'numpy' from 'C:\\<...>ges\\\\numpy\\\\__init__.py'>\n"
     ]
    }
   ],
   "source": [
    "whos"
   ]
  },
  {
   "cell_type": "code",
   "execution_count": 32,
   "metadata": {
    "collapsed": true
   },
   "outputs": [],
   "source": [
    "def EuropeanBinomialPricer(option, spot, rate, sigma, steps):\n",
    "    expiry = option.expiry\n",
    "    h = expiry / steps\n",
    "    nodes = steps\n",
    "    u = np.exp(rate * h + sigma * np.sqrt(h))\n",
    "    d = np.exp(rate * h - sigma * np.sqrt(h))\n",
    "    pstar = (np.exp(rate * h) - d) / (u - d)\n",
    "    total = 0.0\n",
    "    disc = np.exp(-rate * expiry)\n",
    "\n",
    "    for i in range(nodes):\n",
    "        spotT = spot * (u ** (steps - i)) * (d ** (i))\n",
    "        callT = option.payoff(spotT)\n",
    "        probT = binom.pmf(steps - i, steps, pstar)\n",
    "        total += callT * probT\n",
    "        \n",
    "    return disc * total"
   ]
  },
  {
   "cell_type": "code",
   "execution_count": 33,
   "metadata": {
    "collapsed": false
   },
   "outputs": [
    {
     "name": "stdout",
     "output_type": "stream",
     "text": [
      "Variable                 Type                 Data/Info\n",
      "-------------------------------------------------------\n",
      "EuropeanBinomialPricer   function             <function EuropeanBinomia<...>er at 0x0000001D20127488>\n",
      "VanillaCallOption        type                 <class 'payoff.VanillaCallOption'>\n",
      "VanillaOption            type                 <class 'payoff.VanillaOption'>\n",
      "VanillaPutOption         type                 <class 'payoff.VanillaPutOption'>\n",
      "binom                    binom_gen            <scipy.stats._discrete_di<...>ct at 0x0000001D205DBBA8>\n",
      "expiry                   float                1.0\n",
      "main                     function             <function main at 0x0000001D20127730>\n",
      "np                       module               <module 'numpy' from 'C:\\<...>ges\\\\numpy\\\\__init__.py'>\n",
      "strike                   float                40.0\n",
      "the_call                 VanillaCallOption    <payoff.VanillaCallOption<...>ct at 0x0000001D2012B358>\n"
     ]
    }
   ],
   "source": [
    "whos\n"
   ]
  },
  {
   "cell_type": "code",
   "execution_count": 34,
   "metadata": {
    "collapsed": true
   },
   "outputs": [],
   "source": [
    "strike = 40.0\n",
    "expiry = 1.0\n",
    "the_call = VanillaCallOption(strike, expiry)"
   ]
  },
  {
   "cell_type": "code",
   "execution_count": 36,
   "metadata": {
    "collapsed": false
   },
   "outputs": [
    {
     "data": {
      "text/plain": [
       "1.0"
      ]
     },
     "execution_count": 36,
     "metadata": {},
     "output_type": "execute_result"
    }
   ],
   "source": [
    "the_call.expiry"
   ]
  },
  {
   "cell_type": "code",
   "execution_count": 37,
   "metadata": {
    "collapsed": false
   },
   "outputs": [
    {
     "data": {
      "text/plain": [
       "42.0"
      ]
     },
     "execution_count": 37,
     "metadata": {},
     "output_type": "execute_result"
    }
   ],
   "source": [
    "the_call.strike = 42.0\n",
    "the_call.strike"
   ]
  },
  {
   "cell_type": "code",
   "execution_count": 20,
   "metadata": {
    "collapsed": false
   },
   "outputs": [
    {
     "data": {
      "text/plain": [
       "2.0"
      ]
     },
     "execution_count": 20,
     "metadata": {},
     "output_type": "execute_result"
    }
   ],
   "source": [
    "the_call.payoff(42.0)"
   ]
  },
  {
   "cell_type": "code",
   "execution_count": 26,
   "metadata": {
    "collapsed": false
   },
   "outputs": [
    {
     "name": "stdout",
     "output_type": "stream",
     "text": [
      "The Call Price is: 7.074\n"
     ]
    }
   ],
   "source": [
    "def main():\n",
    "    strike = 40.0\n",
    "    expiry = 1.0\n",
    "    rate = 0.08\n",
    "    sigma = 0.30\n",
    "    steps = 3\n",
    "    spot = 41.0\n",
    "    the_call = VanillaCallOption(strike, expiry)\n",
    "    the_call_price = EuropeanBinomialPricer(the_call, spot, rate, sigma, steps)\n",
    "    print(\"The Call Price is: {0:0.3f}\".format(the_call_price))\n",
    "    \n",
    "if __name__ == \"__main__\":\n",
    "    main()"
   ]
  },
  {
   "cell_type": "code",
   "execution_count": null,
   "metadata": {
    "collapsed": true
   },
   "outputs": [],
   "source": []
  }
 ],
 "metadata": {
  "kernelspec": {
   "display_name": "Python [default]",
   "language": "python",
   "name": "python3"
  },
  "language_info": {
   "codemirror_mode": {
    "name": "ipython",
    "version": 3
   },
   "file_extension": ".py",
   "mimetype": "text/x-python",
   "name": "python",
   "nbconvert_exporter": "python",
   "pygments_lexer": "ipython3",
   "version": "3.5.2"
  }
 },
 "nbformat": 4,
 "nbformat_minor": 1
}
