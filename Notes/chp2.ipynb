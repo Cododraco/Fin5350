{
 "cells": [
  {
   "cell_type": "markdown",
   "metadata": {
    "format": "text/markdown"
   },
   "source": [
    "% Chapter 2\n",
    "% Tyler J. Brough\n",
    "% September 8, 2017\n",
    "\n",
    "# Word Problems\n",
    "\n",
    "## Word Problems\n",
    "### Demonstrates numbers and math\n",
    "\n",
    "In Chapter 2 of [Python Programming for the Absolute Beginner](), we are presented with some simple `Python` programs to carry out so-called word problems. I reproduce some of Dawson's examples below in the following code chunks. \n",
    "\n",
    "Notice that the output is embedding in the document after the code chunks. \n",
    "\n",
    "<br>\n",
    "\n"
   ]
  },
  {
   "cell_type": "code",
   "execution_count": 1,
   "metadata": {
    "autoscroll": "auto",
    "collapsed": false,
    "options": {
     "caption": false,
     "complete": true,
     "display_data": true,
     "display_stream": true,
     "dpi": 200,
     "echo": true,
     "evaluate": true,
     "f_env": null,
     "f_pos": "htpb",
     "f_size": [
      6,
      4
     ],
     "f_spines": true,
     "fig": true,
     "include": true,
     "name": null,
     "option_string": "evaluate = True",
     "results": "verbatim",
     "term": false,
     "wrap": "output"
    }
   },
   "outputs": [
    {
     "name": "stdout",
     "output_type": "stream",
     "text": [
      "If a 2000 pound pregnant hippo gives birth to a 100 pound calf,\n",
      "but then eats 50 pounts of food. How much does she weigh?\n",
      "Press the enter key to find out.\n",
      "2000 - 100 + 50 = 1950\n"
     ]
    }
   ],
   "source": [
    "print(\"If a 2000 pound pregnant hippo gives birth to a 100 pound calf,\")\n",
    "print(\"but then eats 50 pounts of food. How much does she weigh?\")\n",
    "#input(\"Press the enter key to find out.\")\n",
    "print(\"Press the enter key to find out.\")\n",
    "print(\"2000 - 100 + 50 =\", 2000 - 100 + 50)"
   ]
  },
  {
   "cell_type": "markdown",
   "metadata": {
    "format": "text/markdown"
   },
   "source": [
    "\n",
    "<br>\n",
    "\n"
   ]
  },
  {
   "cell_type": "code",
   "execution_count": 2,
   "metadata": {
    "autoscroll": "auto",
    "collapsed": false,
    "options": {
     "caption": false,
     "complete": true,
     "display_data": true,
     "display_stream": true,
     "dpi": 200,
     "echo": true,
     "evaluate": true,
     "f_env": null,
     "f_pos": "htpb",
     "f_size": [
      6,
      4
     ],
     "f_spines": true,
     "fig": true,
     "include": true,
     "name": null,
     "option_string": "evaluate = True",
     "results": "verbatim",
     "term": false,
     "wrap": "output"
    }
   },
   "outputs": [
    {
     "name": "stdout",
     "output_type": "stream",
     "text": [
      "\n",
      "If an adventurer returns from a successful quest and buys each of\n",
      "6 companions 3 bottles of ale, how many bottles are purchased?\n",
      "Press the enter key to find out.\n",
      "6 * 3 = 18\n"
     ]
    }
   ],
   "source": [
    "print(\"\\nIf an adventurer returns from a successful quest and buys each of\")\n",
    "print(\"6 companions 3 bottles of ale, how many bottles are purchased?\")\n",
    "#input(\"Press the enter key to find out.\")\n",
    "print(\"Press the enter key to find out.\")\n",
    "print(\"6 * 3 =\", 6 * 3)"
   ]
  },
  {
   "cell_type": "markdown",
   "metadata": {
    "format": "text/markdown"
   },
   "source": [
    "\n",
    "<br>\n",
    "\n"
   ]
  },
  {
   "cell_type": "code",
   "execution_count": 3,
   "metadata": {
    "autoscroll": "auto",
    "collapsed": false,
    "options": {
     "caption": false,
     "complete": true,
     "display_data": true,
     "display_stream": true,
     "dpi": 200,
     "echo": true,
     "evaluate": true,
     "f_env": null,
     "f_pos": "htpb",
     "f_size": [
      6,
      4
     ],
     "f_spines": true,
     "fig": true,
     "include": true,
     "name": null,
     "option_string": "evaluate = True",
     "results": "verbatim",
     "term": false,
     "wrap": "output"
    }
   },
   "outputs": [
    {
     "name": "stdout",
     "output_type": "stream",
     "text": [
      "\n",
      "If a restraurant check comes to 19 dollars with tip, and you and\n",
      "your friends split it evenly 4 ways, how much do you each throw in?\n",
      "Press the enter key to find out.\n",
      "19 / 4 = 4.75\n"
     ]
    }
   ],
   "source": [
    "print(\"\\nIf a restraurant check comes to 19 dollars with tip, and you and\")\n",
    "print(\"your friends split it evenly 4 ways, how much do you each throw in?\")\n",
    "#input(\"Press the enter key to find out.\")\n",
    "print(\"Press the enter key to find out.\")\n",
    "print(\"19 / 4 =\", 19 / 4)"
   ]
  },
  {
   "cell_type": "markdown",
   "metadata": {
    "format": "text/markdown"
   },
   "source": [
    "\n",
    "<br>\n",
    "\n",
    "This helps you see how some very simple `Python` syntax works with some string literal values and some basic mathematical operators. Note that I comment out the `input` statements and replace them with `print` statements for the purposes of this document. But try using `input` on your own systems interactively in the REPL. \n",
    "\n",
    "## A Simple Assignment\n",
    "\n",
    "Your first programming assignment is to come up with five additional simple word problems. Your deliverable will be a Jupyter Notebook in your GitHub account.   \n",
    "\n",
    "Try to use different mathemtical operations like multiplication, division, subtraction, and addition. Don't make it too complex though.  \n",
    "\n",
    "We can talk some more about it in class.\n",
    "\n",
    "\n"
   ]
  }
 ],
 "metadata": {
  "kernel_info": {
   "name": "python3"
  },
  "language_info": {
   "name": "python"
  }
 },
 "nbformat": 4,
 "nbformat_minor": 0
}