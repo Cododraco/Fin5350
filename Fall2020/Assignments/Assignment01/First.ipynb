{
 "cells": [
  {
   "cell_type": "markdown",
   "metadata": {},
   "source": [
    "# First "
   ]
  },
  {
   "cell_type": "markdown",
   "metadata": {},
   "source": [
    "## Markdown Basics\n",
    "\n",
    "\n",
    "Here is the [Wikipedia article on Markdown](https://en.wikipedia.org/wiki/Markdown)\n",
    "\n",
    "\n",
    "Here is Google: www.google.com\n",
    "\n",
    "\n",
    "I can *italicize* with asterisks. I can do the _same thing_ with underscores.\n",
    "\n",
    "I can do **bold** or __bold__ \n",
    "\n",
    "I can do both ___things at once___\n",
    "\n",
    "I can ~strikethrough~\n",
    "\n",
    "\n",
    "I can create a bullet list: \n",
    "\n",
    "* Item 1\n",
    "* Item 2\n",
    "    * Nested item\n",
    "        \n",
    "        \n",
    "- Item a\n",
    "- Item b\n",
    "    * symbol 1\n",
    "    \n",
    "    \n",
    "I can also create an enumerated list: \n",
    "\n",
    "1. Item I\n",
    "2. Item II\n",
    "3. Item III\n",
    "\n"
   ]
  },
  {
   "cell_type": "markdown",
   "metadata": {},
   "source": [
    "## Some Simple LaTeX"
   ]
  },
  {
   "cell_type": "markdown",
   "metadata": {},
   "source": [
    "Symbolic math looks like: $\\bar{x} = \\frac{1}{n}\\sum_{i=1}^{n} x_{i}$\n",
    "\n",
    "Here is an equation:\n",
    "\n",
    "$$\n",
    "p(A | B) = \\frac{p(B | A) p(A)}{p(B)}\n",
    "$$"
   ]
  },
  {
   "cell_type": "code",
   "execution_count": 3,
   "metadata": {},
   "outputs": [],
   "source": [
    "import numpy as np"
   ]
  },
  {
   "cell_type": "code",
   "execution_count": 4,
   "metadata": {},
   "outputs": [
    {
     "data": {
      "text/plain": [
       "3.141592653589793"
      ]
     },
     "execution_count": 4,
     "metadata": {},
     "output_type": "execute_result"
    }
   ],
   "source": [
    "np.pi"
   ]
  },
  {
   "cell_type": "code",
   "execution_count": 14,
   "metadata": {},
   "outputs": [
    {
     "name": "stdout",
     "output_type": "stream",
     "text": [
      "Hello, World! The value of Pi to six decimal places is: 3.141592653589793\n"
     ]
    }
   ],
   "source": [
    "print(f\"Hello, World! The value of Pi to six decimal places is: {np.pi}\")"
   ]
  },
  {
   "cell_type": "code",
   "execution_count": 6,
   "metadata": {},
   "outputs": [
    {
     "name": "stdout",
     "output_type": "stream",
     "text": [
      "Variable   Type      Data/Info\n",
      "------------------------------\n",
      "np         module    <module 'numpy' from '/Us<...>kages/numpy/__init__.py'>\n"
     ]
    }
   ],
   "source": [
    "whos"
   ]
  },
  {
   "cell_type": "code",
   "execution_count": 7,
   "metadata": {},
   "outputs": [
    {
     "data": {
      "text/plain": [
       "float"
      ]
     },
     "execution_count": 7,
     "metadata": {},
     "output_type": "execute_result"
    }
   ],
   "source": [
    "type(np.pi)"
   ]
  },
  {
   "cell_type": "code",
   "execution_count": null,
   "metadata": {},
   "outputs": [],
   "source": []
  }
 ],
 "metadata": {
  "kernelspec": {
   "display_name": "Python 3",
   "language": "python",
   "name": "python3"
  },
  "language_info": {
   "codemirror_mode": {
    "name": "ipython",
    "version": 3
   },
   "file_extension": ".py",
   "mimetype": "text/x-python",
   "name": "python",
   "nbconvert_exporter": "python",
   "pygments_lexer": "ipython3",
   "version": "3.8.3"
  }
 },
 "nbformat": 4,
 "nbformat_minor": 4
}
