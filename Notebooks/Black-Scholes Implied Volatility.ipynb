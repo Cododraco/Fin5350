{
 "cells": [
  {
   "cell_type": "markdown",
   "metadata": {},
   "source": [
    "## Black-Scholes-Merton Implied Volatility\n",
    "\n",
    "\n"
   ]
  },
  {
   "cell_type": "code",
   "execution_count": 2,
   "metadata": {
    "collapsed": true
   },
   "outputs": [],
   "source": [
    "import numpy as np\n",
    "from scipy.stats import norm\n",
    "\n",
    "N = norm.cdf"
   ]
  },
  {
   "cell_type": "code",
   "execution_count": 3,
   "metadata": {
    "collapsed": false
   },
   "outputs": [],
   "source": [
    "def BlackScholes(spot, strike, rate, sigma, expiry, dividend):\n",
    "    d1 = (np.log(spot / strike) + (rate - dividend + 0.5 * sigma * sigma) * expiry) / (sigma * np.sqrt(expiry))\n",
    "    d2 = d1 - sigma * np.sqrt(expiry)\n",
    "    price = spot * np.exp(-dividend * expiry) * N(d1) - strike * np.exp(-rate * expiry) * N(d2)\n",
    "    return price"
   ]
  },
  {
   "cell_type": "code",
   "execution_count": 8,
   "metadata": {
    "collapsed": false
   },
   "outputs": [],
   "source": [
    "spot = 41.0\n",
    "strike = 40.0\n",
    "rate = 0.08\n",
    "sigma = 0.30\n",
    "expiry = 1.0\n",
    "dividend = 0.0\n",
    "price = BlackScholes(41.0, 40.0, 0.08, 0.30, 1.0, 0.0)"
   ]
  },
  {
   "cell_type": "code",
   "execution_count": 5,
   "metadata": {
    "collapsed": true
   },
   "outputs": [],
   "source": [
    "def ImpliedVolatility(spot, strike, rate, expiry, dividend, quoted_price):\n",
    "    tolerance = 10 ** -6\n",
    "    lower = 10 ** -8\n",
    "    flower = BlackScholes(spot, strike, rate, lower, expiry, dividend) - quoted_price \n",
    "    upper = 1\n",
    "    fupper = BlackScholes(spot, strike, rate, upper, expiry, dividend) - quoted_price\n",
    "    \n",
    "    while(fupper < 0):\n",
    "        upper *= 2\n",
    "        fupper = BlackScholes(spot, strike, rate, upper, expiry, dividend) - quoted_price\n",
    "        \n",
    "    guess = 0.5 * (lower + upper)\n",
    "    fguess = BlackScholes(spot, strike, rate, guess, expiry, dividend) - quoted_price\n",
    "    \n",
    "    while((upper - lower) > tolerance):\n",
    "        if((fupper * fguess) < 0):\n",
    "            lower = guess\n",
    "            flower = fguess\n",
    "            guess = 0.5 * lower + 0.5 * upper\n",
    "            fguess = BlackScholes(spot, strike, rate, guess, expiry, dividend) - quoted_price\n",
    "        else:\n",
    "            upper = guess\n",
    "            fupper = fguess\n",
    "            guess = 0.5 * lower + 0.5 * upper\n",
    "            fguess = BlackScholes(spot, strike, rate, guess, expiry, dividend) - quoted_price\n",
    "    \n",
    "    return guess\n",
    "\n"
   ]
  },
  {
   "cell_type": "code",
   "execution_count": 9,
   "metadata": {
    "collapsed": false
   },
   "outputs": [],
   "source": [
    "imp_vol = ImpliedVolatility(spot, strike, rate, expiry, dividend, price)"
   ]
  },
  {
   "cell_type": "code",
   "execution_count": 11,
   "metadata": {
    "collapsed": false
   },
   "outputs": [
    {
     "name": "stdout",
     "output_type": "stream",
     "text": [
      "The Implied Volatility is: 0.30\n"
     ]
    }
   ],
   "source": [
    "fmt = \"The Implied Volatility is: {0:0.2f}\"\n",
    "print(fmt.format(imp_vol))"
   ]
  },
  {
   "cell_type": "code",
   "execution_count": null,
   "metadata": {
    "collapsed": false
   },
   "outputs": [],
   "source": []
  },
  {
   "cell_type": "code",
   "execution_count": null,
   "metadata": {
    "collapsed": true
   },
   "outputs": [],
   "source": []
  }
 ],
 "metadata": {
  "anaconda-cloud": {},
  "kernelspec": {
   "display_name": "Python [default]",
   "language": "python",
   "name": "python3"
  },
  "language_info": {
   "codemirror_mode": {
    "name": "ipython",
    "version": 3
   },
   "file_extension": ".py",
   "mimetype": "text/x-python",
   "name": "python",
   "nbconvert_exporter": "python",
   "pygments_lexer": "ipython3",
   "version": "3.5.2"
  }
 },
 "nbformat": 4,
 "nbformat_minor": 1
}
