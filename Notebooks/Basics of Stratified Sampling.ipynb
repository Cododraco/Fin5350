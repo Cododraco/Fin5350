{
 "cells": [
  {
   "cell_type": "code",
   "execution_count": 1,
   "metadata": {},
   "outputs": [],
   "source": [
    "%matplotlib inline\n",
    "\n",
    "import matplotlib\n",
    "import numpy as np\n",
    "import matplotlib.pyplot as plt"
   ]
  },
  {
   "cell_type": "code",
   "execution_count": 2,
   "metadata": {},
   "outputs": [
    {
     "data": {
      "image/png": "[encoded data removed]",
      "text/plain": [
       "<matplotlib.figure.Figure at 0x7f1bec2d8ba8>"
      ]
     },
     "metadata": {},
     "output_type": "display_data"
    }
   ],
   "source": [
    "\n",
    "from numpy.random import normal\n",
    "M = 100\n",
    "u = np.random.uniform(size=M)\n",
    "\n",
    "plt.hist(u)\n",
    "plt.title(\"Uniform Histogram\")\n",
    "plt.xlabel(\"Value\")\n",
    "plt.ylabel(\"Frequency\")\n",
    "plt.show()"
   ]
  },
  {
   "cell_type": "code",
   "execution_count": 3,
   "metadata": {},
   "outputs": [],
   "source": [
    "from scipy.stats import norm"
   ]
  },
  {
   "cell_type": "code",
   "execution_count": 4,
   "metadata": {},
   "outputs": [
    {
     "data": {
      "text/plain": [
       "\u001b[0;31mSignature:\u001b[0m \u001b[0mnorm\u001b[0m\u001b[0;34m.\u001b[0m\u001b[0mppf\u001b[0m\u001b[0;34m(\u001b[0m\u001b[0mq\u001b[0m\u001b[0;34m,\u001b[0m \u001b[0;34m*\u001b[0m\u001b[0margs\u001b[0m\u001b[0;34m,\u001b[0m \u001b[0;34m**\u001b[0m\u001b[0mkwds\u001b[0m\u001b[0;34m)\u001b[0m\u001b[0;34m\u001b[0m\u001b[0m\n",
       "\u001b[0;31mDocstring:\u001b[0m\n",
       "Percent point function (inverse of `cdf`) at q of the given RV.\n",
       "\n",
       "Parameters\n",
       "----------\n",
       "q : array_like\n",
       "    lower tail probability\n",
       "arg1, arg2, arg3,... : array_like\n",
       "    The shape parameter(s) for the distribution (see docstring of the\n",
       "    instance object for more information)\n",
       "loc : array_like, optional\n",
       "    location parameter (default=0)\n",
       "scale : array_like, optional\n",
       "    scale parameter (default=1)\n",
       "\n",
       "Returns\n",
       "-------\n",
       "x : array_like\n",
       "    quantile corresponding to the lower tail probability q.\n",
       "\u001b[0;31mFile:\u001b[0m      ~/anaconda3/lib/python3.6/site-packages/scipy/stats/_distn_infrastructure.py\n",
       "\u001b[0;31mType:\u001b[0m      method\n"
      ]
     },
     "metadata": {},
     "output_type": "display_data"
    }
   ],
   "source": [
    "norm.ppf?"
   ]
  },
  {
   "cell_type": "code",
   "execution_count": 5,
   "metadata": {},
   "outputs": [],
   "source": [
    "z = norm.ppf(u)"
   ]
  },
  {
   "cell_type": "code",
   "execution_count": 6,
   "metadata": {},
   "outputs": [
    {
     "data": {
      "image/png": "[encoded data removed]",
      "text/plain": [
       "<matplotlib.figure.Figure at 0x7f1bd5b48240>"
      ]
     },
     "metadata": {},
     "output_type": "display_data"
    }
   ],
   "source": [
    "plt.hist(z)\n",
    "plt.title(\"Uniform Histogram\")\n",
    "plt.xlabel(\"Value\")\n",
    "plt.ylabel(\"Frequency\")\n",
    "plt.show()"
   ]
  },
  {
   "cell_type": "code",
   "execution_count": 7,
   "metadata": {},
   "outputs": [],
   "source": [
    "M = 100\n",
    "u = np.random.uniform(size = M)\n",
    "uhat = np.zeros((M,))\n",
    "\n",
    "for i in range(M):\n",
    "    uhat[i] = (u[i] + i) / M"
   ]
  },
  {
   "cell_type": "code",
   "execution_count": 8,
   "metadata": {},
   "outputs": [
    {
     "data": {
      "text/plain": [
       "array([0.0041611 , 0.01000926, 0.02663229, 0.03120258, 0.04912475,\n",
       "       0.05054341, 0.06750803, 0.07738783, 0.08492892, 0.09834916,\n",
       "       0.10247638, 0.1181865 , 0.12857909, 0.13573041, 0.14969181,\n",
       "       0.15053812, 0.16387558, 0.17658982, 0.18459982, 0.1943628 ,\n",
       "       0.20917026, 0.21752017, 0.22689557, 0.23781696, 0.24314342,\n",
       "       0.25783262, 0.2655536 , 0.27014898, 0.28052129, 0.29122661,\n",
       "       0.30776667, 0.31946672, 0.32261255, 0.335379  , 0.34651894,\n",
       "       0.35921435, 0.36421742, 0.37365867, 0.38521704, 0.39007937,\n",
       "       0.40236485, 0.41740934, 0.42000526, 0.43872175, 0.4478541 ,\n",
       "       0.45170915, 0.46100193, 0.4765235 , 0.48386529, 0.49375036,\n",
       "       0.50756286, 0.51432729, 0.52124256, 0.53994814, 0.54714607,\n",
       "       0.55434345, 0.5642445 , 0.57884685, 0.58868092, 0.59497909,\n",
       "       0.60156848, 0.61199198, 0.62828504, 0.63210707, 0.6492101 ,\n",
       "       0.65475292, 0.6618175 , 0.67502643, 0.68653327, 0.69966299,\n",
       "       0.70532195, 0.71034778, 0.72312927, 0.73636705, 0.74860678,\n",
       "       0.75912183, 0.76537777, 0.77922925, 0.78873081, 0.79459254,\n",
       "       0.8072291 , 0.81284948, 0.82265232, 0.83781837, 0.84396337,\n",
       "       0.8588339 , 0.8647475 , 0.87766918, 0.88318252, 0.89444749,\n",
       "       0.90102763, 0.91728823, 0.92532635, 0.9375581 , 0.94392618,\n",
       "       0.95050585, 0.96472524, 0.97809739, 0.98179987, 0.99008729])"
      ]
     },
     "execution_count": 8,
     "metadata": {},
     "output_type": "execute_result"
    }
   ],
   "source": [
    "uhat"
   ]
  },
  {
   "cell_type": "code",
   "execution_count": 9,
   "metadata": {},
   "outputs": [
    {
     "data": {
      "image/png": "[encoded data removed]",
      "text/plain": [
       "<matplotlib.figure.Figure at 0x7f1bd5af07f0>"
      ]
     },
     "metadata": {},
     "output_type": "display_data"
    }
   ],
   "source": [
    "plt.hist(uhat)\n",
    "plt.title(\"Stratified Uniform Histogram\")\n",
    "plt.xlabel(\"Value\")\n",
    "plt.ylabel(\"Frequency\")\n",
    "plt.show()"
   ]
  },
  {
   "cell_type": "code",
   "execution_count": 10,
   "metadata": {},
   "outputs": [
    {
     "data": {
      "image/png": "[encoded data removed]",
      "text/plain": [
       "<matplotlib.figure.Figure at 0x7f1bd5abf198>"
      ]
     },
     "metadata": {},
     "output_type": "display_data"
    }
   ],
   "source": [
    "z = norm.ppf(uhat)\n",
    "plt.hist(z)\n",
    "plt.title(\"Stratified Normal Histogram\")\n",
    "plt.xlabel(\"Value\")\n",
    "plt.ylabel(\"Frequency\")\n",
    "plt.show()"
   ]
  },
  {
   "cell_type": "code",
   "execution_count": 17,
   "metadata": {},
   "outputs": [
    {
     "name": "stdout",
     "output_type": "stream",
     "text": [
      "The Call Price is: 6.957\n"
     ]
    }
   ],
   "source": [
    "M = 1000\n",
    "u = np.random.uniform(size = M)\n",
    "uhat = np.zeros((M,))\n",
    "\n",
    "i = np.arange(M)\n",
    "uhat = (u + i) / M\n",
    "\n",
    "spot = 41.0\n",
    "strike = 40.0\n",
    "expiry = 1.0\n",
    "rate = 0.08\n",
    "sigma = 0.30\n",
    "\n",
    "## The main simulation loop\n",
    "z = norm.ppf(uhat)\n",
    "spotT = np.empty((M, ))\n",
    "callT = np.empty((M, ))\n",
    "spotT = spot * np.exp((rate - 0.5 * sigma * sigma)* expiry + sigma * np.sqrt(expiry) * z)\n",
    "callT = np.maximum(spotT - strike, 0.0)\n",
    "price = np.exp(-rate * expiry) * callT.mean()\n",
    "print(\"The Call Price is: {0:.3f}\".format(price))"
   ]
  },
  {
   "cell_type": "code",
   "execution_count": null,
   "metadata": {},
   "outputs": [],
   "source": []
  },
  {
   "cell_type": "code",
   "execution_count": null,
   "metadata": {},
   "outputs": [],
   "source": []
  },
  {
   "cell_type": "code",
   "execution_count": null,
   "metadata": {
    "collapsed": true
   },
   "outputs": [],
   "source": []
  }
 ],
 "metadata": {
  "anaconda-cloud": {},
  "kernelspec": {
   "display_name": "Python 3",
   "language": "python",
   "name": "python3"
  },
  "language_info": {
   "codemirror_mode": {
    "name": "ipython",
    "version": 3
   },
   "file_extension": ".py",
   "mimetype": "text/x-python",
   "name": "python",
   "nbconvert_exporter": "python",
   "pygments_lexer": "ipython3",
   "version": "3.6.4"
  }
 },
 "nbformat": 4,
 "nbformat_minor": 2
}
