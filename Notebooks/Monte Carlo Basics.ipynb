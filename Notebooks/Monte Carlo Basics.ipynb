{
 "cells": [
  {
   "cell_type": "markdown",
   "metadata": {},
   "source": [
    "# Naive Monte Carlo in a Black-Scholes Economy\n",
    "\n",
    "\n",
    "$$\n",
    "S_{T} = S_{0} \\exp{\\left((r - \\delta  + \\frac{1}{2} \\sigma^{2}) T + \\sigma \\sqrt{T} Z \\right)}\n",
    "$$"
   ]
  },
  {
   "cell_type": "code",
   "execution_count": 1,
   "metadata": {
    "collapsed": true
   },
   "outputs": [],
   "source": [
    "import numpy as np"
   ]
  },
  {
   "cell_type": "code",
   "execution_count": 2,
   "metadata": {
    "collapsed": true
   },
   "outputs": [],
   "source": [
    "z = np.random.normal(size = 100)"
   ]
  },
  {
   "cell_type": "code",
   "execution_count": 3,
   "metadata": {
    "collapsed": false
   },
   "outputs": [
    {
     "data": {
      "text/plain": [
       "array([-1.01104245,  1.43889453,  0.0528921 , -1.11410316, -0.48872575,\n",
       "       -0.45149172, -0.6464181 , -0.22310843, -0.56736406, -0.14128486,\n",
       "        0.39150964,  0.12263835,  0.07013858,  1.2347408 ,  0.29387234,\n",
       "       -0.24191727,  0.75931928,  0.30055797, -0.23709423, -1.22224657,\n",
       "       -0.76723565,  0.46980358,  0.12594491,  3.18639146,  1.5997342 ,\n",
       "        1.23486254, -1.25915547,  0.49700924,  0.74503026, -1.05961457,\n",
       "        0.06397939, -0.23163888,  0.27616737, -0.35333015,  0.62236459,\n",
       "        0.17417758,  1.56902721,  0.76872647,  0.09901278, -2.36433827,\n",
       "       -1.22054525,  1.53167879, -0.36847256,  1.66342486, -0.03453464,\n",
       "       -0.29459828, -0.79820531, -0.85955693, -0.77723422,  1.03572223,\n",
       "       -1.37784644, -2.00228055, -0.86548304, -1.01379805,  1.30246518,\n",
       "       -1.2402949 ,  0.47619783, -0.52426797, -0.72680162,  0.72098335,\n",
       "        0.34695564,  0.07916925, -0.30332722,  0.02449731, -0.52158831,\n",
       "        1.25821063, -0.01129192, -2.10093905,  0.58148867,  1.53485443,\n",
       "       -1.48419584,  1.33254193,  1.5660944 , -0.11927429, -0.88196314,\n",
       "       -1.72897176,  1.15339377,  2.19633884, -1.47419009,  0.16028056,\n",
       "        2.09646173, -1.8651791 ,  0.11469324, -0.80320852,  0.63439633,\n",
       "       -0.26447199,  0.58861472, -1.08052833,  0.80541895,  0.33659927,\n",
       "        1.25705027,  1.1682759 , -0.51143072,  0.80901574,  0.54993764,\n",
       "        1.28932413,  0.65662145, -1.84848788,  0.16485056, -0.69471218])"
      ]
     },
     "execution_count": 3,
     "metadata": {},
     "output_type": "execute_result"
    }
   ],
   "source": [
    "z"
   ]
  },
  {
   "cell_type": "markdown",
   "metadata": {},
   "source": [
    "## Set Up Parameters"
   ]
  },
  {
   "cell_type": "code",
   "execution_count": 4,
   "metadata": {
    "collapsed": true
   },
   "outputs": [],
   "source": [
    "S = 41.0\n",
    "K = 40.0\n",
    "r = 0.08\n",
    "v = 0.30\n",
    "T = 1.0\n",
    "q = 0.0\n"
   ]
  },
  {
   "cell_type": "code",
   "execution_count": 5,
   "metadata": {
    "collapsed": true
   },
   "outputs": [],
   "source": [
    "M = 1000000\n",
    "spot_t = np.empty((M,))\n"
   ]
  },
  {
   "cell_type": "code",
   "execution_count": 6,
   "metadata": {
    "collapsed": false
   },
   "outputs": [],
   "source": [
    "nudt = (r - q - 0.5 * v * v) * T\n",
    "sigdt = v * np.sqrt(T)\n",
    "z = np.random.normal(size=(M,))"
   ]
  },
  {
   "cell_type": "code",
   "execution_count": 7,
   "metadata": {
    "collapsed": true
   },
   "outputs": [],
   "source": [
    "#for i in range(M):\n",
    "#    spot_t[i] = S * np.exp(nudt + sigdt * z[i])"
   ]
  },
  {
   "cell_type": "code",
   "execution_count": 8,
   "metadata": {
    "collapsed": true
   },
   "outputs": [],
   "source": [
    "spot_t = S * np.exp(nudt + sigdt * z)"
   ]
  },
  {
   "cell_type": "code",
   "execution_count": 9,
   "metadata": {
    "collapsed": false
   },
   "outputs": [
    {
     "data": {
      "text/plain": [
       "array([ 76.75410857,  35.17374881,  46.70116031,  58.53424105,\n",
       "        44.45859743,  51.323376  ,  43.28661671,  41.17173452,\n",
       "        51.16938619,  48.93720828])"
      ]
     },
     "execution_count": 9,
     "metadata": {},
     "output_type": "execute_result"
    }
   ],
   "source": [
    "spot_t[:10]"
   ]
  },
  {
   "cell_type": "code",
   "execution_count": 10,
   "metadata": {
    "collapsed": true
   },
   "outputs": [],
   "source": [
    "def CallPayoff(spot, strike):\n",
    "    return np.maximum(spot - strike, 0.0)\n",
    "\n",
    "\n",
    "def PutPayoff(spot, strike):\n",
    "    return np.maximum(strike - spot, 0.0)"
   ]
  },
  {
   "cell_type": "code",
   "execution_count": 11,
   "metadata": {
    "collapsed": true
   },
   "outputs": [],
   "source": [
    "call_t = CallPayoff(spot_t, K)"
   ]
  },
  {
   "cell_type": "code",
   "execution_count": 12,
   "metadata": {
    "collapsed": false
   },
   "outputs": [
    {
     "data": {
      "text/plain": [
       "array([ 36.75410857,   0.        ,   6.70116031,  18.53424105,\n",
       "         4.45859743,  11.323376  ,   3.28661671,   1.17173452,\n",
       "        11.16938619,   8.93720828])"
      ]
     },
     "execution_count": 12,
     "metadata": {},
     "output_type": "execute_result"
    }
   ],
   "source": [
    "call_t[:10]"
   ]
  },
  {
   "cell_type": "code",
   "execution_count": 13,
   "metadata": {
    "collapsed": true
   },
   "outputs": [],
   "source": [
    "bob = call_t.mean()"
   ]
  },
  {
   "cell_type": "code",
   "execution_count": 14,
   "metadata": {
    "collapsed": false
   },
   "outputs": [
    {
     "data": {
      "text/plain": [
       "7.5435420759515122"
      ]
     },
     "execution_count": 14,
     "metadata": {},
     "output_type": "execute_result"
    }
   ],
   "source": [
    "bob"
   ]
  },
  {
   "cell_type": "code",
   "execution_count": 15,
   "metadata": {
    "collapsed": true
   },
   "outputs": [],
   "source": [
    "callPrc = np.exp(-r * T) * bob"
   ]
  },
  {
   "cell_type": "code",
   "execution_count": 16,
   "metadata": {
    "collapsed": false
   },
   "outputs": [
    {
     "data": {
      "text/plain": [
       "6.9635669999662175"
      ]
     },
     "execution_count": 16,
     "metadata": {},
     "output_type": "execute_result"
    }
   ],
   "source": [
    "callPrc"
   ]
  },
  {
   "cell_type": "code",
   "execution_count": null,
   "metadata": {
    "collapsed": true
   },
   "outputs": [],
   "source": []
  },
  {
   "cell_type": "code",
   "execution_count": 17,
   "metadata": {
    "collapsed": true
   },
   "outputs": [],
   "source": [
    "put_t = PutPayoff(spot_t, K)"
   ]
  },
  {
   "cell_type": "code",
   "execution_count": 18,
   "metadata": {
    "collapsed": false
   },
   "outputs": [
    {
     "data": {
      "text/plain": [
       "array([ 0.        ,  4.82625119,  0.        ,  0.        ,  0.        ,\n",
       "        0.        ,  0.        ,  0.        ,  0.        ,  0.        ])"
      ]
     },
     "execution_count": 18,
     "metadata": {},
     "output_type": "execute_result"
    }
   ],
   "source": [
    "put_t[:10]"
   ]
  },
  {
   "cell_type": "code",
   "execution_count": 19,
   "metadata": {
    "collapsed": true
   },
   "outputs": [],
   "source": [
    "putPrc = np.exp(-r * T) * put_t.mean()"
   ]
  },
  {
   "cell_type": "code",
   "execution_count": 20,
   "metadata": {
    "collapsed": false
   },
   "outputs": [
    {
     "data": {
      "text/plain": [
       "2.8929095170635484"
      ]
     },
     "execution_count": 20,
     "metadata": {},
     "output_type": "execute_result"
    }
   ],
   "source": [
    "putPrc"
   ]
  },
  {
   "cell_type": "markdown",
   "metadata": {
    "collapsed": true
   },
   "source": [
    "## Simulating Paths"
   ]
  },
  {
   "cell_type": "code",
   "execution_count": 36,
   "metadata": {
    "collapsed": false
   },
   "outputs": [],
   "source": [
    "reps = 3000000\n",
    "steps = 4\n",
    "path = np.zeros((reps,steps))"
   ]
  },
  {
   "cell_type": "code",
   "execution_count": 37,
   "metadata": {
    "collapsed": false
   },
   "outputs": [
    {
     "data": {
      "text/plain": [
       "array([[ 41.,   0.,   0.,   0.],\n",
       "       [ 41.,   0.,   0.,   0.],\n",
       "       [ 41.,   0.,   0.,   0.],\n",
       "       ..., \n",
       "       [ 41.,   0.,   0.,   0.],\n",
       "       [ 41.,   0.,   0.,   0.],\n",
       "       [ 41.,   0.,   0.,   0.]])"
      ]
     },
     "execution_count": 37,
     "metadata": {},
     "output_type": "execute_result"
    }
   ],
   "source": [
    "path\n",
    "path[:,0] = S\n",
    "path"
   ]
  },
  {
   "cell_type": "code",
   "execution_count": 38,
   "metadata": {
    "collapsed": true
   },
   "outputs": [],
   "source": [
    "dt = T / steps\n",
    "nudt = (r - q - 0.5 * v * v) * dt\n",
    "sigdt = v * np.sqrt(dt)"
   ]
  },
  {
   "cell_type": "code",
   "execution_count": 39,
   "metadata": {
    "collapsed": false
   },
   "outputs": [
    {
     "data": {
      "text/plain": [
       "array([[ 41.        ,  35.37683475,  28.6394618 ,  22.97888409],\n",
       "       [ 41.        ,  49.95862171,  58.87976882,  67.93253433],\n",
       "       [ 41.        ,  35.68488534,  37.51075424,  37.48990806],\n",
       "       ..., \n",
       "       [ 41.        ,  33.78934329,  51.24500982,  48.53897259],\n",
       "       [ 41.        ,  37.90424041,  51.55999163,  52.15236133],\n",
       "       [ 41.        ,  43.25988887,  49.20681518,  55.49915372]])"
      ]
     },
     "execution_count": 39,
     "metadata": {},
     "output_type": "execute_result"
    }
   ],
   "source": [
    "\n",
    "for i in range(reps):\n",
    "    z = np.random.normal(size=steps)\n",
    "    for j in range(1, steps):\n",
    "        path[i,j] = path[i,j-1] * np.exp(nudt + sigdt * z[j])\n",
    "        \n",
    "path"
   ]
  },
  {
   "cell_type": "code",
   "execution_count": 40,
   "metadata": {
    "collapsed": false
   },
   "outputs": [],
   "source": [
    "def ArithmeticAsianCallPayoff(path, strike):\n",
    "    spot_t = path.mean(axis = 1)\n",
    "    return np.maximum(spot_t - strike, 0.0)"
   ]
  },
  {
   "cell_type": "code",
   "execution_count": 41,
   "metadata": {
    "collapsed": false
   },
   "outputs": [
    {
     "data": {
      "text/plain": [
       "3.3325571553321245"
      ]
     },
     "execution_count": 41,
     "metadata": {},
     "output_type": "execute_result"
    }
   ],
   "source": [
    "call_t = ArithmeticAsianCallPayoff(path, K).mean()\n",
    "call_t *= np.exp(-r * T)\n",
    "call_t"
   ]
  },
  {
   "cell_type": "code",
   "execution_count": null,
   "metadata": {
    "collapsed": true
   },
   "outputs": [],
   "source": []
  },
  {
   "cell_type": "code",
   "execution_count": null,
   "metadata": {
    "collapsed": true
   },
   "outputs": [],
   "source": []
  }
 ],
 "metadata": {
  "anaconda-cloud": {},
  "kernelspec": {
   "display_name": "Python 3",
   "language": "python",
   "name": "python3"
  },
  "language_info": {
   "codemirror_mode": {
    "name": "ipython",
    "version": 3
   },
   "file_extension": ".py",
   "mimetype": "text/x-python",
   "name": "python",
   "nbconvert_exporter": "python",
   "pygments_lexer": "ipython3",
   "version": "3.5.2"
  }
 },
 "nbformat": 4,
 "nbformat_minor": 1
}
