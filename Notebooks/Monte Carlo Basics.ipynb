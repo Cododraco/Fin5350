{
 "cells": [
  {
   "cell_type": "markdown",
   "metadata": {},
   "source": [
    "# Naive Monte Carlo in a Black-Scholes Economy\n",
    "\n",
    "\n",
    "$$\n",
    "S_{T} = S_{0} \\exp{\\left((r - \\delta  + \\frac{1}{2} \\sigma^{2}) T + \\sigma \\sqrt{T} Z \\right)}\n",
    "$$"
   ]
  },
  {
   "cell_type": "code",
   "execution_count": 2,
   "metadata": {
    "collapsed": true
   },
   "outputs": [],
   "source": [
    "import numpy as np"
   ]
  },
  {
   "cell_type": "code",
   "execution_count": 3,
   "metadata": {
    "collapsed": true
   },
   "outputs": [],
   "source": [
    "z = np.random.normal(size = 100)"
   ]
  },
  {
   "cell_type": "code",
   "execution_count": 4,
   "metadata": {
    "collapsed": false
   },
   "outputs": [
    {
     "data": {
      "text/plain": [
       "array([ 0.34067867, -0.71278895,  0.89753068,  0.74079037,  0.52681485,\n",
       "        0.69729953, -0.76018215,  0.08113456, -0.98383365,  0.07898747,\n",
       "       -0.03234235, -1.12524522,  0.13790314,  1.91862144,  1.287956  ,\n",
       "       -0.91061481,  0.12927475, -2.92755517, -0.95369731,  1.38755157,\n",
       "        0.08769175, -0.998732  ,  0.66286841, -0.56586878,  1.23229544,\n",
       "        0.46135349, -1.3928623 , -1.78900856, -1.19723727,  1.43577193,\n",
       "        0.7562182 , -1.29758931, -1.02121032, -0.78630597, -0.31261907,\n",
       "        0.09194849,  0.01137565,  0.69021164, -0.26340716,  1.57215614,\n",
       "       -0.04685436, -0.51408477,  0.88997809, -0.13717274,  0.74622856,\n",
       "        0.89106649, -0.68217428, -0.00372201, -3.1166331 , -1.19087643,\n",
       "       -1.3957511 , -2.40329173,  0.35696525,  0.68980898, -0.17455616,\n",
       "       -0.83370642, -1.36289085,  1.34034446,  0.9229708 ,  0.55464605,\n",
       "       -1.82336334,  0.20860162,  0.12556506, -0.13924194,  0.21003312,\n",
       "        1.08065628,  0.98473177, -0.1979559 ,  0.13376882, -0.33035644,\n",
       "        0.03453862, -0.29148088,  1.19800181,  0.5883879 ,  1.36445618,\n",
       "        0.39080268, -0.92877754,  1.38230923, -2.29103155, -1.04792669,\n",
       "        0.13211895, -0.40116794,  1.10664496, -1.77702448,  1.572177  ,\n",
       "       -0.89750968,  2.26250022,  1.00875772, -0.07551649,  0.74485202,\n",
       "       -0.2597624 , -2.39223807,  0.87641025, -2.29492214, -0.20628784,\n",
       "       -1.6778521 ,  0.39979001, -0.72698335, -0.96857466, -0.87602875])"
      ]
     },
     "execution_count": 4,
     "metadata": {},
     "output_type": "execute_result"
    }
   ],
   "source": [
    "z"
   ]
  },
  {
   "cell_type": "markdown",
   "metadata": {},
   "source": [
    "## Set Up Parameters"
   ]
  },
  {
   "cell_type": "code",
   "execution_count": 5,
   "metadata": {
    "collapsed": true
   },
   "outputs": [],
   "source": [
    "S = 41.0\n",
    "K = 40.0\n",
    "r = 0.08\n",
    "v = 0.30\n",
    "T = 1.0\n",
    "q = 0.0\n"
   ]
  },
  {
   "cell_type": "code",
   "execution_count": 6,
   "metadata": {
    "collapsed": true
   },
   "outputs": [],
   "source": [
    "M = 1000000\n",
    "spot_t = np.empty((M,))\n"
   ]
  },
  {
   "cell_type": "code",
   "execution_count": 7,
   "metadata": {
    "collapsed": false
   },
   "outputs": [],
   "source": [
    "nudt = (r - q - 0.5 * v * v) * T\n",
    "sigdt = v * np.sqrt(T)\n",
    "z = np.random.normal(size=(M,))"
   ]
  },
  {
   "cell_type": "code",
   "execution_count": 8,
   "metadata": {
    "collapsed": true
   },
   "outputs": [],
   "source": [
    "#for i in range(M):\n",
    "#    spot_t[i] = S * np.exp(nudt + sigdt * z[i])"
   ]
  },
  {
   "cell_type": "code",
   "execution_count": 9,
   "metadata": {
    "collapsed": true
   },
   "outputs": [],
   "source": [
    "spot_t = S * np.exp(nudt + sigdt * z)"
   ]
  },
  {
   "cell_type": "code",
   "execution_count": 10,
   "metadata": {
    "collapsed": false
   },
   "outputs": [
    {
     "data": {
      "text/plain": [
       "array([ 27.41500167,  46.75699694,  56.9792174 ,  31.89235976,\n",
       "        75.75444511,  49.67393605,  42.88691931,  40.36975374,\n",
       "        48.98280929,  42.09394923])"
      ]
     },
     "execution_count": 10,
     "metadata": {},
     "output_type": "execute_result"
    }
   ],
   "source": [
    "spot_t[:10]"
   ]
  },
  {
   "cell_type": "code",
   "execution_count": 11,
   "metadata": {
    "collapsed": true
   },
   "outputs": [],
   "source": [
    "def CallPayoff(spot, strike):\n",
    "    return np.maximum(spot - strike, 0.0)\n",
    "\n",
    "\n",
    "def PutPayoff(spot, strike):\n",
    "    return np.maximum(strike - spot, 0.0)"
   ]
  },
  {
   "cell_type": "code",
   "execution_count": 12,
   "metadata": {
    "collapsed": true
   },
   "outputs": [],
   "source": [
    "call_t = CallPayoff(spot_t, K)"
   ]
  },
  {
   "cell_type": "code",
   "execution_count": 13,
   "metadata": {
    "collapsed": false
   },
   "outputs": [
    {
     "data": {
      "text/plain": [
       "array([  0.        ,   6.75699694,  16.9792174 ,   0.        ,\n",
       "        35.75444511,   9.67393605,   2.88691931,   0.36975374,\n",
       "         8.98280929,   2.09394923])"
      ]
     },
     "execution_count": 13,
     "metadata": {},
     "output_type": "execute_result"
    }
   ],
   "source": [
    "call_t[:10]"
   ]
  },
  {
   "cell_type": "code",
   "execution_count": 14,
   "metadata": {
    "collapsed": true
   },
   "outputs": [],
   "source": [
    "bob = call_t.mean()"
   ]
  },
  {
   "cell_type": "code",
   "execution_count": 15,
   "metadata": {
    "collapsed": false
   },
   "outputs": [
    {
     "data": {
      "text/plain": [
       "7.544198724585331"
      ]
     },
     "execution_count": 15,
     "metadata": {},
     "output_type": "execute_result"
    }
   ],
   "source": [
    "bob"
   ]
  },
  {
   "cell_type": "code",
   "execution_count": 16,
   "metadata": {
    "collapsed": true
   },
   "outputs": [],
   "source": [
    "callPrc = np.exp(-r * T) * bob"
   ]
  },
  {
   "cell_type": "code",
   "execution_count": 17,
   "metadata": {
    "collapsed": false
   },
   "outputs": [
    {
     "data": {
      "text/plain": [
       "6.9641731630539283"
      ]
     },
     "execution_count": 17,
     "metadata": {},
     "output_type": "execute_result"
    }
   ],
   "source": [
    "callPrc"
   ]
  },
  {
   "cell_type": "code",
   "execution_count": null,
   "metadata": {
    "collapsed": true
   },
   "outputs": [],
   "source": []
  },
  {
   "cell_type": "code",
   "execution_count": 18,
   "metadata": {
    "collapsed": true
   },
   "outputs": [],
   "source": [
    "put_t = PutPayoff(spot_t, K)"
   ]
  },
  {
   "cell_type": "code",
   "execution_count": 19,
   "metadata": {
    "collapsed": false
   },
   "outputs": [
    {
     "data": {
      "text/plain": [
       "array([ 12.58499833,   0.        ,   0.        ,   8.10764024,\n",
       "         0.        ,   0.        ,   0.        ,   0.        ,\n",
       "         0.        ,   0.        ])"
      ]
     },
     "execution_count": 19,
     "metadata": {},
     "output_type": "execute_result"
    }
   ],
   "source": [
    "put_t[:10]"
   ]
  },
  {
   "cell_type": "code",
   "execution_count": 20,
   "metadata": {
    "collapsed": true
   },
   "outputs": [],
   "source": [
    "putPrc = np.exp(-r * T) * put_t.mean()"
   ]
  },
  {
   "cell_type": "code",
   "execution_count": 21,
   "metadata": {
    "collapsed": false
   },
   "outputs": [
    {
     "data": {
      "text/plain": [
       "2.884570352778089"
      ]
     },
     "execution_count": 21,
     "metadata": {},
     "output_type": "execute_result"
    }
   ],
   "source": [
    "putPrc"
   ]
  },
  {
   "cell_type": "markdown",
   "metadata": {
    "collapsed": true
   },
   "source": [
    "## Simulating Paths"
   ]
  },
  {
   "cell_type": "code",
   "execution_count": 33,
   "metadata": {
    "collapsed": false
   },
   "outputs": [],
   "source": [
    "reps = 3\n",
    "steps = 30\n",
    "path = np.zeros((reps,steps))"
   ]
  },
  {
   "cell_type": "code",
   "execution_count": 34,
   "metadata": {
    "collapsed": false
   },
   "outputs": [
    {
     "data": {
      "text/plain": [
       "array([[ 41.,   0.,   0.,   0.,   0.,   0.,   0.,   0.,   0.,   0.,   0.,\n",
       "          0.,   0.,   0.,   0.,   0.,   0.,   0.,   0.,   0.,   0.,   0.,\n",
       "          0.,   0.,   0.,   0.,   0.,   0.,   0.,   0.],\n",
       "       [ 41.,   0.,   0.,   0.,   0.,   0.,   0.,   0.,   0.,   0.,   0.,\n",
       "          0.,   0.,   0.,   0.,   0.,   0.,   0.,   0.,   0.,   0.,   0.,\n",
       "          0.,   0.,   0.,   0.,   0.,   0.,   0.,   0.],\n",
       "       [ 41.,   0.,   0.,   0.,   0.,   0.,   0.,   0.,   0.,   0.,   0.,\n",
       "          0.,   0.,   0.,   0.,   0.,   0.,   0.,   0.,   0.,   0.,   0.,\n",
       "          0.,   0.,   0.,   0.,   0.,   0.,   0.,   0.]])"
      ]
     },
     "execution_count": 34,
     "metadata": {},
     "output_type": "execute_result"
    }
   ],
   "source": [
    "path\n",
    "path[:,0] = S\n",
    "path"
   ]
  },
  {
   "cell_type": "code",
   "execution_count": 35,
   "metadata": {
    "collapsed": true
   },
   "outputs": [],
   "source": [
    "dt = T / steps\n",
    "nudt = (r - q - 0.5 * v * v) * dt\n",
    "sigdt = v * np.sqrt(dt)"
   ]
  },
  {
   "cell_type": "code",
   "execution_count": 36,
   "metadata": {
    "collapsed": false
   },
   "outputs": [
    {
     "data": {
      "text/plain": [
       "array([[ 41.        ,  38.50200983,  37.64461333,  36.49759545,\n",
       "         34.92330909,  32.64319169,  31.27213927,  31.0622597 ,\n",
       "         29.5654966 ,  29.04677181,  28.21154314,  28.87336692,\n",
       "         27.30402677,  28.36525528,  27.20874623,  28.56565423,\n",
       "         28.60765072,  29.20132739,  29.02210066,  30.09669557,\n",
       "         30.57028076,  32.17129786,  31.78141259,  29.56792588,\n",
       "         30.82731248,  31.79354298,  32.89140809,  33.35785143,\n",
       "         32.02739144,  35.97998698],\n",
       "       [ 41.        ,  46.63729406,  43.2971757 ,  42.87800314,\n",
       "         40.79433057,  45.45437434,  42.77199315,  41.05122388,\n",
       "         39.21732263,  41.15117712,  39.89917708,  45.35360398,\n",
       "         45.88622652,  41.65832426,  41.18360985,  45.21651123,\n",
       "         43.51031663,  46.76949013,  47.58840871,  48.6133947 ,\n",
       "         51.67283322,  49.11405398,  50.28454034,  54.67213301,\n",
       "         63.38081996,  69.49015697,  69.08727333,  77.44432394,\n",
       "         69.17569758,  73.24485918],\n",
       "       [ 41.        ,  42.78832673,  45.17615793,  40.783248  ,\n",
       "         38.63429805,  37.66593941,  37.66970415,  38.6098752 ,\n",
       "         40.00503646,  39.97035284,  41.26935712,  43.1236924 ,\n",
       "         43.52352004,  46.01413711,  48.78177384,  50.80662285,\n",
       "         55.27397233,  52.56737278,  52.04416731,  49.07886145,\n",
       "         44.01095599,  42.6050891 ,  42.57143301,  40.67819627,\n",
       "         40.71688369,  39.52877918,  40.51012865,  35.95544167,\n",
       "         35.17281096,  36.22280168]])"
      ]
     },
     "execution_count": 36,
     "metadata": {},
     "output_type": "execute_result"
    }
   ],
   "source": [
    "\n",
    "for i in range(reps):\n",
    "    z = np.random.normal(size=steps)\n",
    "    for j in range(1, steps):\n",
    "        path[i,j] = path[i,j-1] * np.exp(nudt + sigdt * z[j])\n",
    "        \n",
    "path"
   ]
  },
  {
   "cell_type": "code",
   "execution_count": null,
   "metadata": {
    "collapsed": true
   },
   "outputs": [],
   "source": []
  }
 ],
 "metadata": {
  "anaconda-cloud": {},
  "kernelspec": {
   "display_name": "Python 3",
   "language": "python",
   "name": "python3"
  },
  "language_info": {
   "codemirror_mode": {
    "name": "ipython",
    "version": 3
   },
   "file_extension": ".py",
   "mimetype": "text/x-python",
   "name": "python",
   "nbconvert_exporter": "python",
   "pygments_lexer": "ipython3",
   "version": "3.5.2"
  }
 },
 "nbformat": 4,
 "nbformat_minor": 1
}
