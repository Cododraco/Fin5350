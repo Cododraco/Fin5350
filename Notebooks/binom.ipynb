{
 "cells": [
  {
   "cell_type": "markdown",
   "metadata": {},
   "source": [
    "## Binomial Option Pricing Model\n",
    "\n",
    "We can implement the Binomial Option Pricing Model in Python as follows. \n",
    "\n",
    "<br>\n",
    "<br>\n",
    "\n",
    "Let's start with specifing payoff functions for calls and puts. \n",
    "\n",
    "<br>\n",
    "\n",
    "Recall that the payoff for call option is:\n",
    "\n",
    "$$\n",
    "\\mbox{Call Payoff} = \\max{\\{S_{t} - K, 0.0 \\}}\n",
    "$$\n",
    "\n",
    "The put payoff is:\n",
    "\n",
    "$$\n",
    "\\mbox{Put Payoff} = \\max{\\{K - S_{t}, 0.0\\}}\n",
    "$$\n",
    "\n",
    "<br>\n",
    "\n",
    "We can implement these in code as follows."
   ]
  },
  {
   "cell_type": "code",
   "execution_count": 2,
   "metadata": {},
   "outputs": [],
   "source": [
    "## First import numpy\n",
    "import numpy as np\n",
    "\n",
    "## Call Payoff Function\n",
    "def callPayoff(spot, strike):\n",
    "    return np.maximum(spot - strike, 0.0)\n",
    "\n",
    "## Put Payoff Function\n",
    "def putPayoff(spot, strike):\n",
    "    return np.maximum(strike - spot, 0.0)\n"
   ]
  },
  {
   "cell_type": "markdown",
   "metadata": {},
   "source": [
    "Let's check these with $S = \\$100$ and $K_{1} = \\$95$ and $K_{2} = \\$105$"
   ]
  },
  {
   "cell_type": "code",
   "execution_count": 3,
   "metadata": {},
   "outputs": [
    {
     "data": {
      "text/plain": [
       "array([ 95., 105.])"
      ]
     },
     "execution_count": 3,
     "metadata": {},
     "output_type": "execute_result"
    }
   ],
   "source": [
    "spot = 100.0\n",
    "strikes = np.array([95.0, 105.0])\n",
    "strikes"
   ]
  },
  {
   "cell_type": "code",
   "execution_count": 4,
   "metadata": {},
   "outputs": [
    {
     "data": {
      "text/plain": [
       "array([5., 0.])"
      ]
     },
     "execution_count": 4,
     "metadata": {},
     "output_type": "execute_result"
    }
   ],
   "source": [
    "callPO = callPayoff(spot, strikes)\n",
    "callPO"
   ]
  },
  {
   "cell_type": "code",
   "execution_count": 5,
   "metadata": {},
   "outputs": [
    {
     "data": {
      "text/plain": [
       "array([0., 5.])"
      ]
     },
     "execution_count": 5,
     "metadata": {},
     "output_type": "execute_result"
    }
   ],
   "source": [
    "putPO = putPayoff(spot, strikes)\n",
    "putPO"
   ]
  },
  {
   "cell_type": "markdown",
   "metadata": {},
   "source": [
    "They seem to be working just fine!\n",
    "\n",
    "<br>\n",
    "\n",
    "- $r = 8\\%$\n",
    "- $\\sigma = 30\\%$\n",
    "- $T = 1$ year\n",
    "- $\\delta = 0.0$ (no dividends)\n",
    "- $n = 1$ (a single period)\n",
    "- $h = T/n = 1$\n",
    "\n",
    "Also recall that the formula for the parameters $u$ and $d$ are given by:\n",
    "\n",
    "$$\n",
    "\\begin{align}\n",
    "u &= e^{\\{(r - \\delta)h + \\sigma \\sqrt{h}\\}} \\\\\n",
    "d &= e^{\\{(r - \\delta)h - \\sigma \\sqrt{h}\\}} \n",
    "\\end{align}\n",
    "$$\n",
    "\n",
    "<br>\n",
    "\n",
    "These can be implemented in Python as follows:"
   ]
  },
  {
   "cell_type": "code",
   "execution_count": 24,
   "metadata": {},
   "outputs": [],
   "source": [
    "r = 0.08       ## time step \n",
    "v = 0.30       ## volatility\n",
    "q = 0.0        ## dividend\n",
    "expiry = 1.0\n",
    "n = 1.0        ## periods\n",
    "h = expiry / n \n",
    "S = 100.0      ## spot price\n",
    "K = 95.0       ## strike price\n",
    "\n",
    "u = np.exp((r - q) * h + v * np.sqrt(h))\n",
    "d = np.exp((r - q) * h - v * np.sqrt(h))"
   ]
  },
  {
   "cell_type": "code",
   "execution_count": 25,
   "metadata": {},
   "outputs": [
    {
     "name": "stdout",
     "output_type": "stream",
     "text": [
      "(1.4622845894342245, 0.8025187979624785)\n"
     ]
    }
   ],
   "source": [
    "print((u, d))"
   ]
  },
  {
   "cell_type": "markdown",
   "metadata": {},
   "source": [
    "### Implementing the Single Period Model\n",
    "\n",
    "Now we can implement the single period model in two ways. Recall that we could write the model in these two forms:\n",
    "\n",
    "__No-Arbitrage Form:__\n",
    "\n",
    "$$\n",
    "f_{0} = \\Delta S + B\n",
    "$$\n",
    "\n",
    "with \n",
    "\n",
    "$$\n",
    "\\Delta = \\frac{f_{u} - f_{d}}{S(u - d)}\n",
    "$$\n",
    "\n",
    "and\n",
    "\n",
    "$$\n",
    "B = e^{-r h}\\left[\\frac{u f_{d} - d f_{u}}{(u - d)}\\right]\n",
    "$$\n",
    "\n",
    "Where $f$ stands for either a call or put. Let's see this in action for a call option."
   ]
  },
  {
   "cell_type": "code",
   "execution_count": 26,
   "metadata": {},
   "outputs": [
    {
     "data": {
      "text/plain": [
       "20.124540120626122"
      ]
     },
     "execution_count": 26,
     "metadata": {},
     "output_type": "execute_result"
    }
   ],
   "source": [
    "fu = callPayoff(u * S, K)\n",
    "fd = callPayoff(d * S, K)\n",
    "D = (fu - fd)/(S * (u - d))                        ## Delta\n",
    "B = np.exp(-r * h) * ((u * fd - d * fu)/ (u - d))  ## B \n",
    "f = S * D + B\n",
    "f"
   ]
  },
  {
   "cell_type": "markdown",
   "metadata": {},
   "source": [
    "__Risk-Neutral Form__\n",
    "\n",
    "We saw that we could also put the single period model in risk-neutral form. There we only needed to define one additional parameter $p^{\\ast}$, which we do as follows:\n",
    "\n",
    "$$\n",
    "p^{\\ast} = \\frac{e^{(r - \\delta)h} - d}{u - d}\n",
    "$$\n",
    "\n",
    "<br>\n",
    "\n",
    "Then the single period model can also be written as:\n",
    "\n",
    "$$\n",
    "f_{0} = e^{-rh} \\left[(p^{\\ast}) f_{u} - (1 - p^{\\ast}) f_{d} \\right]\n",
    "$$\n",
    "\n",
    "<br>\n",
    "\n",
    "Which we implement in Python as follows:"
   ]
  },
  {
   "cell_type": "code",
   "execution_count": 27,
   "metadata": {},
   "outputs": [
    {
     "data": {
      "text/plain": [
       "0.4255574831883412"
      ]
     },
     "execution_count": 27,
     "metadata": {},
     "output_type": "execute_result"
    }
   ],
   "source": [
    "pstar = (np.exp((r - q) * h) - d) / (u - d)\n",
    "pstar"
   ]
  },
  {
   "cell_type": "code",
   "execution_count": 28,
   "metadata": {},
   "outputs": [
    {
     "data": {
      "text/plain": [
       "20.124540120626122"
      ]
     },
     "execution_count": 28,
     "metadata": {},
     "output_type": "execute_result"
    }
   ],
   "source": [
    "f = np.exp(-r * h) * (pstar * fu + (1 - pstar) * fd)\n",
    "f"
   ]
  },
  {
   "cell_type": "markdown",
   "metadata": {},
   "source": [
    "From this we can see that they are the exact same solution! Yeet!!!\n",
    "\n",
    "<br>\n",
    "\n",
    "But we're now experienced Python programmers. Instead of inline code, let's see if we can abstract this away into a function."
   ]
  },
  {
   "cell_type": "code",
   "execution_count": 34,
   "metadata": {},
   "outputs": [],
   "source": [
    "def singlePeriodBinomialModel(S, K, r, v, q, T, n, payoff):\n",
    "    h = T / n\n",
    "    u = np.exp((r - q) * h + v * np.sqrt(h))\n",
    "    d = np.exp((r - q) * h - v * np.sqrt(h))\n",
    "    pstar = (np.exp((r - q) * h) - d) / (u - d)\n",
    "    fu = payoff(u * S, K)\n",
    "    fd = payoff(d * S, K)\n",
    "    f = np.exp(-r * h) * (pstar * fu + (1 - pstar) * fd)\n",
    "    \n",
    "    return f\n",
    "    "
   ]
  },
  {
   "cell_type": "code",
   "execution_count": 35,
   "metadata": {},
   "outputs": [
    {
     "data": {
      "text/plain": [
       "20.124540120626122"
      ]
     },
     "execution_count": 35,
     "metadata": {},
     "output_type": "execute_result"
    }
   ],
   "source": [
    "callPrc = singlePeriodBinomialModel(S, K, r, v, q, expiry, n, callPayoff)\n",
    "callPrc"
   ]
  },
  {
   "cell_type": "markdown",
   "metadata": {},
   "source": [
    "Yeet!!!\n",
    "\n",
    "<br>\n",
    "\n",
    "Also, note that we can now also price the put for free! This is actually an example of polymorphism (which we'll return to). It is possible because functions are first-class objects in Python so we can pass functions to functions. "
   ]
  },
  {
   "cell_type": "code",
   "execution_count": 37,
   "metadata": {},
   "outputs": [
    {
     "data": {
      "text/plain": [
       "7.82059302735651"
      ]
     },
     "execution_count": 37,
     "metadata": {},
     "output_type": "execute_result"
    }
   ],
   "source": [
    "putPrc = singlePeriodBinomialModel(S, K, r, v, q, expiry, n, putPayoff)\n",
    "putPrc"
   ]
  },
  {
   "cell_type": "markdown",
   "metadata": {},
   "source": [
    "### The Multi-Period Binomial Model\n",
    "\n",
    "Well, great but the single period model is pretty simplistic. We don't think it is sufficient for pricing actual real-world options. It's just a toy model. Recall that we used backward induction to solve recursively for the option price in a multi-period model applying at each set of nodes the single period model. So we can build on the single period model to solve for the option price in a more complex model. How can we implement this in Python code? Let's start by recalling our simplification for European options. \n",
    "\n",
    "<br>\n",
    "\n",
    "Let's start with a two-period model ($n = 2$). The terminal prices on the last nodes of the tree are given as follows:\n",
    "\n",
    "- $uuS$\n",
    "- $udS = duS$\n",
    "- $ddS$\n",
    "\n",
    "Using the way of thinking embedded in the risk-neutral form of the single period model we can write the option premium as:\n",
    "\n",
    "$$\n",
    "f_{0} = e^{-r T} \\left[p_{uu} f_{uu} + p_{ud} f_{ud} + p_{dd} f_{dd} \\right]\n",
    "$$\n",
    "\n",
    "Assuming we could know the risk-neutral probabilities $p_{uu}, p_{ud}, p_{dd}$"
   ]
  },
  {
   "cell_type": "code",
   "execution_count": null,
   "metadata": {},
   "outputs": [],
   "source": []
  }
 ],
 "metadata": {
  "kernelspec": {
   "display_name": "Python 3",
   "language": "python",
   "name": "python3"
  },
  "language_info": {
   "codemirror_mode": {
    "name": "ipython",
    "version": 3
   },
   "file_extension": ".py",
   "mimetype": "text/x-python",
   "name": "python",
   "nbconvert_exporter": "python",
   "pygments_lexer": "ipython3",
   "version": "3.6.4"
  }
 },
 "nbformat": 4,
 "nbformat_minor": 2
}
