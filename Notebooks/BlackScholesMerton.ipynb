{
 "cells": [
  {
   "cell_type": "markdown",
   "metadata": {},
   "source": [
    "# Finance 5350 \n",
    "\n",
    "__Computational Financial Modeling__\n",
    "\n",
    "## Introduction to the Black-Scholes-Merton Model"
   ]
  },
  {
   "cell_type": "markdown",
   "metadata": {},
   "source": [
    "The BSM formula is given by the following (for a call option):\n",
    "\n",
    "$$\n",
    "C(S, K, \\sigma,r, T, \\delta) = S e^{-\\delta T} N(d_{1}) - K e^{-r T} N(d_{2})\n",
    "$$\n",
    "\n",
    "<br>\n",
    "\n",
    "and by (for a put option):\n",
    "\n",
    "$$\n",
    "P(S, K, \\sigma,r, T, \\delta) = K e^{-rT}N(-d_{2}) - S e^{-\\delta T} N(-d_{1})\n",
    "$$\n",
    "\n",
    "<br>\n",
    "\n",
    "where\n",
    "\n",
    "$$\n",
    "\\begin{align}\n",
    "d_{1} &= \\frac{\\ln{(S/K)} + (r - \\delta + \\frac{1}{2} \\sigma^{2}) T}{\\sigma \\sqrt{T}} \\\\\n",
    "d_{2} &= d_{1} - \\sigma \\sqrt{T}\n",
    "\\end{align}\n",
    "$$\n",
    "\n",
    "<br>\n",
    "\n",
    "Let's see the call option formula as a pricer function:"
   ]
  },
  {
   "cell_type": "code",
   "execution_count": 1,
   "metadata": {},
   "outputs": [],
   "source": [
    "import numpy as np\n",
    "from scipy.stats import norm"
   ]
  },
  {
   "cell_type": "code",
   "execution_count": 2,
   "metadata": {},
   "outputs": [],
   "source": [
    "def blackScholesCall(spot, strike, vol, rate, expiry, div):\n",
    "    d1 = (np.log(spot / strike) + (rate - div + 0.5 * vol * vol) * expiry) / (vol * np.sqrt(expiry))\n",
    "    d2 = d1 - (vol * np.sqrt(expiry))\n",
    "    callPrc = (spot * np.exp(-div * expiry) * norm.cdf(d1)) - (strike * np.exp(-rate * expiry) * norm.cdf(d2))\n",
    "    \n",
    "    return callPrc"
   ]
  },
  {
   "cell_type": "code",
   "execution_count": 3,
   "metadata": {},
   "outputs": [
    {
     "data": {
      "text/plain": [
       "3.3990781872368956"
      ]
     },
     "execution_count": 3,
     "metadata": {},
     "output_type": "execute_result"
    }
   ],
   "source": [
    "## Basic Data (see McDonald Chp 12 page 377 2nd Edition)\n",
    "spot = 41.0\n",
    "strike = 40.0\n",
    "vol = 0.30\n",
    "rate = 0.08\n",
    "expiry = 0.25\n",
    "div = 0.0\n",
    "\n",
    "callPrc = blackScholesCall(spot, strike, vol, rate, expiry, div)\n",
    "callPrc"
   ]
  },
  {
   "cell_type": "code",
   "execution_count": 5,
   "metadata": {},
   "outputs": [],
   "source": [
    "## Call Payoff Function\n",
    "def callPayoff(spot, strike):\n",
    "    return np.maximum(spot - strike, 0.0)\n",
    "\n",
    "## Put Payoff Function\n",
    "def putPayoff(spot, strike):\n",
    "    return np.maximum(strike - spot, 0.0)"
   ]
  },
  {
   "cell_type": "code",
   "execution_count": 8,
   "metadata": {},
   "outputs": [],
   "source": [
    "from scipy.stats import binom\n",
    "\n",
    "def binomialPricer(S, K, r, v, q, T, n, payoff, verbose = True):\n",
    "    nodes = n  + 1\n",
    "    h = T / n\n",
    "    u = np.exp((r - q) * h + v * np.sqrt(h))\n",
    "    d = np.exp((r - q) * h - v * np.sqrt(h))\n",
    "    pstar = (np.exp((r - q) * h) - d) / (u - d)\n",
    "    \n",
    "    price = 0.0\n",
    "    \n",
    "    for i in range(nodes):\n",
    "        prob = binom.pmf(i, n, pstar)\n",
    "        spotT = S * (u ** i) * (d ** (n - i))\n",
    "        po = payoff(spotT, K) \n",
    "        price += po * prob\n",
    "        if verbose:\n",
    "            print(f\"({spotT:0.4f}, {po:0.4f}, {prob:0.4f})\")\n",
    "        \n",
    "    price *= np.exp(-r * T)\n",
    "    \n",
    "    return price\n"
   ]
  },
  {
   "cell_type": "code",
   "execution_count": 10,
   "metadata": {},
   "outputs": [
    {
     "name": "stdout",
     "output_type": "stream",
     "text": [
      "3.4544402138080796\n",
      "3.408694981783251\n",
      "3.3917972818360145\n",
      "3.401464570319705\n",
      "3.4046182898109367\n",
      "3.3993570672462536\n",
      "3.399604531287815\n",
      "3.4022193238912726\n",
      "3.3982871838738475\n",
      "3.399919762643824\n"
     ]
    }
   ],
   "source": [
    "N = [10, 25, 50, 75, 100, 125, 150, 175, 200, 500]\n",
    "\n",
    "for i in range(len(N)):\n",
    "    nsteps = N[i]\n",
    "    callPrc = binomialPricer(spot, strike, rate, vol, div, expiry, nsteps, callPayoff, verbose=False)\n",
    "    print(callPrc)"
   ]
  },
  {
   "cell_type": "code",
   "execution_count": null,
   "metadata": {},
   "outputs": [],
   "source": []
  }
 ],
 "metadata": {
  "kernelspec": {
   "display_name": "Python 3",
   "language": "python",
   "name": "python3"
  },
  "language_info": {
   "codemirror_mode": {
    "name": "ipython",
    "version": 3
   },
   "file_extension": ".py",
   "mimetype": "text/x-python",
   "name": "python",
   "nbconvert_exporter": "python",
   "pygments_lexer": "ipython3",
   "version": "3.6.4"
  }
 },
 "nbformat": 4,
 "nbformat_minor": 2
}
