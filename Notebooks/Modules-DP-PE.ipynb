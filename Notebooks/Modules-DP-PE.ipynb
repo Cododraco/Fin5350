{
 "cells": [
  {
   "cell_type": "markdown",
   "metadata": {},
   "source": [
    "# __Simple Modules, Design Patterns & Pricing Engines__\n",
    "\n",
    "<br>\n",
    "\n",
    "Finance 5350: Computational Financial Modeling <br>\n",
    "Tyler J. Brough <br>\n",
    "November 12, 2018 <br>"
   ]
  },
  {
   "cell_type": "code",
   "execution_count": 11,
   "metadata": {},
   "outputs": [],
   "source": [
    "from food import * "
   ]
  },
  {
   "cell_type": "code",
   "execution_count": 12,
   "metadata": {},
   "outputs": [],
   "source": [
    "S = 41.0\n",
    "K = 40.0\n",
    "r = 0.08\n",
    "v = 0.30\n",
    "q = 0.0\n",
    "T = 1.0\n",
    "m = 500000\n",
    "n = 252"
   ]
  },
  {
   "cell_type": "code",
   "execution_count": 13,
   "metadata": {},
   "outputs": [],
   "source": [
    "theCall = Option(T, K, callPayoff)"
   ]
  },
  {
   "cell_type": "code",
   "execution_count": 14,
   "metadata": {},
   "outputs": [
    {
     "data": {
      "text/plain": [
       "1.0"
      ]
     },
     "execution_count": 14,
     "metadata": {},
     "output_type": "execute_result"
    }
   ],
   "source": [
    "theCall.expiry"
   ]
  },
  {
   "cell_type": "code",
   "execution_count": 15,
   "metadata": {},
   "outputs": [
    {
     "data": {
      "text/plain": [
       "40.0"
      ]
     },
     "execution_count": 15,
     "metadata": {},
     "output_type": "execute_result"
    }
   ],
   "source": [
    "theCall.strike"
   ]
  },
  {
   "cell_type": "code",
   "execution_count": 16,
   "metadata": {},
   "outputs": [
    {
     "name": "stdout",
     "output_type": "stream",
     "text": [
      "Variable                Type         Data/Info\n",
      "----------------------------------------------\n",
      "AssetPaths              function     <function AssetPaths at 0x7f57251f8ea0>\n",
      "K                       float        40.0\n",
      "Option                  type         <class 'food.Option'>\n",
      "S                       float        41.0\n",
      "T                       float        1.0\n",
      "binom                   binom_gen    <scipy.stats._discrete_di<...>object at 0x7f57254cec18>\n",
      "binomialPricer          function     <function binomialPricer at 0x7f5724e93b70>\n",
      "callPayoff              function     <function callPayoff at 0x7f5750de17b8>\n",
      "callPrc                 float64      6.965574325180747\n",
      "m                       int          500000\n",
      "n                       int          252\n",
      "naiveMonteCarloPricer   function     <function naiveMonteCarlo<...>Pricer at 0x7f5748559e18>\n",
      "norm                    norm_gen     <scipy.stats._continuous_<...>object at 0x7f574f040550>\n",
      "np                      module       <module 'numpy' from '/ho<...>kages/numpy/__init__.py'>\n",
      "paths                   ndarray      500000x253: 126500000 elems, type `float64`, 1012000000 bytes (965.118408203125 Mb)\n",
      "putPayoff               function     <function putPayoff at 0x7f57484392f0>\n",
      "q                       float        0.0\n",
      "r                       float        0.08\n",
      "theCall                 Option       <food.Option object at 0x7f5724eac0f0>\n",
      "v                       float        0.3\n"
     ]
    }
   ],
   "source": [
    "whos"
   ]
  },
  {
   "cell_type": "code",
   "execution_count": 17,
   "metadata": {},
   "outputs": [],
   "source": [
    "#callPrc = naiveMonteCarloPricer(theCall, S, r, v, q, m, n)\n",
    "#callPrc\n",
    "paths = AssetPaths(S, r, v, theCall.expiry, q, m, n)"
   ]
  },
  {
   "cell_type": "code",
   "execution_count": 7,
   "metadata": {},
   "outputs": [
    {
     "data": {
      "text/plain": [
       "array([ 6.60602287,  0.        ,  0.        , ..., 10.77089955,\n",
       "        1.16558312,  6.18690127])"
      ]
     },
     "execution_count": 7,
     "metadata": {},
     "output_type": "execute_result"
    }
   ],
   "source": [
    "theCall.payoff(paths[:,-1])"
   ]
  },
  {
   "cell_type": "code",
   "execution_count": 18,
   "metadata": {},
   "outputs": [
    {
     "name": "stdout",
     "output_type": "stream",
     "text": [
      "Variable                Type         Data/Info\n",
      "----------------------------------------------\n",
      "AssetPaths              function     <function AssetPaths at 0x7f57251f8ea0>\n",
      "K                       float        40.0\n",
      "Option                  type         <class 'food.Option'>\n",
      "S                       float        41.0\n",
      "T                       float        1.0\n",
      "binom                   binom_gen    <scipy.stats._discrete_di<...>object at 0x7f57254cec18>\n",
      "binomialPricer          function     <function binomialPricer at 0x7f5724e93b70>\n",
      "callPayoff              function     <function callPayoff at 0x7f5750de17b8>\n",
      "callPrc                 float64      6.965574325180747\n",
      "m                       int          500000\n",
      "n                       int          252\n",
      "naiveMonteCarloPricer   function     <function naiveMonteCarlo<...>Pricer at 0x7f5748559e18>\n",
      "norm                    norm_gen     <scipy.stats._continuous_<...>object at 0x7f574f040550>\n",
      "np                      module       <module 'numpy' from '/ho<...>kages/numpy/__init__.py'>\n",
      "paths                   ndarray      500000x253: 126500000 elems, type `float64`, 1012000000 bytes (965.118408203125 Mb)\n",
      "putPayoff               function     <function putPayoff at 0x7f57484392f0>\n",
      "q                       float        0.0\n",
      "r                       float        0.08\n",
      "theCall                 Option       <food.Option object at 0x7f5724eac0f0>\n",
      "v                       float        0.3\n"
     ]
    }
   ],
   "source": [
    "whos"
   ]
  },
  {
   "cell_type": "code",
   "execution_count": 8,
   "metadata": {},
   "outputs": [],
   "source": [
    "def naiveMonteCarloPricer(option, S, r, v, q, nreps, nsteps):\n",
    "    paths = AssetPaths(S, r, v, option.expiry, q, nreps, nsteps)\n",
    "    optT = option.payoff(paths[:, -1])\n",
    "    optPrc = optT.mean()\n",
    "    optPrc *= np.exp(-r * option.expiry)    \n",
    "    return optPrc"
   ]
  },
  {
   "cell_type": "code",
   "execution_count": 19,
   "metadata": {},
   "outputs": [],
   "source": [
    "m = 50000\n",
    "callPrc = naiveMonteCarloPricer(theCall, S, r, v, q, m, n)"
   ]
  },
  {
   "cell_type": "code",
   "execution_count": 20,
   "metadata": {},
   "outputs": [
    {
     "name": "stdout",
     "output_type": "stream",
     "text": [
      "The European Call Price via Monte Carlo is: 6.94\n"
     ]
    }
   ],
   "source": [
    "print(f\"The European Call Price via Monte Carlo is: {callPrc:0.2f}\")"
   ]
  },
  {
   "cell_type": "code",
   "execution_count": null,
   "metadata": {},
   "outputs": [],
   "source": []
  }
 ],
 "metadata": {
  "kernelspec": {
   "display_name": "Python 3",
   "language": "python",
   "name": "python3"
  },
  "language_info": {
   "codemirror_mode": {
    "name": "ipython",
    "version": 3
   },
   "file_extension": ".py",
   "mimetype": "text/x-python",
   "name": "python",
   "nbconvert_exporter": "python",
   "pygments_lexer": "ipython3",
   "version": "3.6.4"
  }
 },
 "nbformat": 4,
 "nbformat_minor": 2
}
