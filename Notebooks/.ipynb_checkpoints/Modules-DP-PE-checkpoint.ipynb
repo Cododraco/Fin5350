{
 "cells": [
  {
   "cell_type": "markdown",
   "metadata": {},
   "source": [
    "# __Simple Modules, Design Patterns & Pricing Engines__\n",
    "\n",
    "<br>\n",
    "\n",
    "Finance 5350: Computational Financial Modeling <br>\n",
    "Tyler J. Brough <br>\n",
    "November 12, 2018 <br>"
   ]
  },
  {
   "cell_type": "code",
   "execution_count": 44,
   "metadata": {},
   "outputs": [],
   "source": [
    "from food import * "
   ]
  },
  {
   "cell_type": "code",
   "execution_count": 45,
   "metadata": {},
   "outputs": [],
   "source": [
    "S = 41.0\n",
    "K = 40.0\n",
    "r = 0.08\n",
    "v = 0.30\n",
    "q = 0.0\n",
    "T = 1.0\n",
    "m = 500000\n",
    "n = 252"
   ]
  },
  {
   "cell_type": "code",
   "execution_count": 46,
   "metadata": {},
   "outputs": [],
   "source": [
    "theCall = Option(T, K, callPayoff)"
   ]
  },
  {
   "cell_type": "code",
   "execution_count": 47,
   "metadata": {},
   "outputs": [
    {
     "data": {
      "text/plain": [
       "1.0"
      ]
     },
     "execution_count": 47,
     "metadata": {},
     "output_type": "execute_result"
    }
   ],
   "source": [
    "theCall.expiry"
   ]
  },
  {
   "cell_type": "code",
   "execution_count": 48,
   "metadata": {},
   "outputs": [
    {
     "data": {
      "text/plain": [
       "40.0"
      ]
     },
     "execution_count": 48,
     "metadata": {},
     "output_type": "execute_result"
    }
   ],
   "source": [
    "theCall.strike"
   ]
  },
  {
   "cell_type": "code",
   "execution_count": 49,
   "metadata": {},
   "outputs": [],
   "source": [
    "#callPrc = naiveMonteCarloPricer(theCall, S, r, v, q, m, n)\n",
    "#callPrc\n",
    "paths = AssetPaths(S, r, v, theCall.expiry, q, m, n)"
   ]
  },
  {
   "cell_type": "code",
   "execution_count": 50,
   "metadata": {},
   "outputs": [
    {
     "data": {
      "text/plain": [
       "array([ 0.        ,  0.        ,  1.83356089, ...,  0.        ,\n",
       "        0.        , 11.78431498])"
      ]
     },
     "execution_count": 50,
     "metadata": {},
     "output_type": "execute_result"
    }
   ],
   "source": [
    "theCall.payoff(paths[:,-1])"
   ]
  },
  {
   "cell_type": "code",
   "execution_count": 51,
   "metadata": {},
   "outputs": [],
   "source": [
    "def naiveMonteCarloPricer(option, S, r, v, q, nreps, nsteps):\n",
    "    paths = AssetPaths(S, r, v, option.expiry, q, nreps, nsteps)\n",
    "    optT = option.payoff(paths[:, -1])\n",
    "    optPrc = optT.mean()\n",
    "    optPrc *= np.exp(-r * option.expiry)    \n",
    "    return optPrc"
   ]
  },
  {
   "cell_type": "code",
   "execution_count": 52,
   "metadata": {},
   "outputs": [],
   "source": [
    "callPrc = naiveMonteCarloPricer(theCall, S, r, v, q, m, n)"
   ]
  },
  {
   "cell_type": "code",
   "execution_count": 53,
   "metadata": {},
   "outputs": [
    {
     "name": "stdout",
     "output_type": "stream",
     "text": [
      "The European Call Price via Monte Carlo is: 6.95\n"
     ]
    }
   ],
   "source": [
    "print(f\"The European Call Price via Monte Carlo is: {callPrc:0.2f}\")"
   ]
  },
  {
   "cell_type": "code",
   "execution_count": null,
   "metadata": {},
   "outputs": [],
   "source": []
  }
 ],
 "metadata": {
  "kernelspec": {
   "display_name": "Python 3",
   "language": "python",
   "name": "python3"
  },
  "language_info": {
   "codemirror_mode": {
    "name": "ipython",
    "version": 3
   },
   "file_extension": ".py",
   "mimetype": "text/x-python",
   "name": "python",
   "nbconvert_exporter": "python",
   "pygments_lexer": "ipython3",
   "version": "3.6.4"
  }
 },
 "nbformat": 4,
 "nbformat_minor": 2
}
