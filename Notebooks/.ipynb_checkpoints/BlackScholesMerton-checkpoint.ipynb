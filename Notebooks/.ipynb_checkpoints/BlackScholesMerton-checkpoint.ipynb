{
 "cells": [
  {
   "cell_type": "markdown",
   "metadata": {},
   "source": [
    "# __Finance 5350: Computational Financial Modeling__\n",
    "\n",
    "## __Introduction to the Black-Scholes-Merton Model__"
   ]
  },
  {
   "cell_type": "markdown",
   "metadata": {},
   "source": [
    "The BSM formula is given by the following (for a call option):\n",
    "\n",
    "$$\n",
    "C(S, K, \\sigma,r, T, \\delta) = S e^{-\\delta T} N(d_{1}) - K e^{-r T} N(d_{2})\n",
    "$$\n",
    "\n",
    "<br>\n",
    "\n",
    "and by (for a put option):\n",
    "\n",
    "$$\n",
    "P(S, K, \\sigma,r, T, \\delta) = K e^{-rT}N(-d_{2}) - S e^{-\\delta T} N(-d_{1})\n",
    "$$\n",
    "\n",
    "<br>\n",
    "\n",
    "where\n",
    "\n",
    "$$\n",
    "\\begin{align}\n",
    "d_{1} &= \\frac{\\ln{(S/K)} + (r - \\delta + \\frac{1}{2} \\sigma^{2}) T}{\\sigma \\sqrt{T}} \\\\\n",
    "d_{2} &= d_{1} - \\sigma \\sqrt{T}\n",
    "\\end{align}\n",
    "$$\n",
    "\n",
    "<br>\n",
    "\n",
    "Let's see the call option formula as a pricer function:"
   ]
  },
  {
   "cell_type": "code",
   "execution_count": 3,
   "metadata": {},
   "outputs": [],
   "source": [
    "import numpy as np\n",
    "from scipy.stats import norm"
   ]
  },
  {
   "cell_type": "code",
   "execution_count": 4,
   "metadata": {},
   "outputs": [],
   "source": [
    "def blackScholesCall(spot, strike, vol, rate, expiry, div):\n",
    "    d1 = (np.log(spot / strike) + (rate - div + 0.5 * vol * vol) * expiry) / (vol * np.sqrt(expiry))\n",
    "    d2 = d1 - (vol * np.sqrt(expiry))\n",
    "    callPrc = (spot * np.exp(-div * expiry) * norm.cdf(d1)) - (strike * np.exp(-rate * expiry) * norm.cdf(d2))\n",
    "    \n",
    "    return callPrc"
   ]
  },
  {
   "cell_type": "code",
   "execution_count": 5,
   "metadata": {},
   "outputs": [
    {
     "data": {
      "text/plain": [
       "3.3990781872368956"
      ]
     },
     "execution_count": 5,
     "metadata": {},
     "output_type": "execute_result"
    }
   ],
   "source": [
    "## Basic Data (see McDonald Chp 12 page 377 2nd Edition)\n",
    "spot = 41.0\n",
    "strike = 40.0\n",
    "vol = 0.30\n",
    "rate = 0.08\n",
    "expiry = 0.25\n",
    "div = 0.0\n",
    "\n",
    "callPrc = blackScholesCall(spot, strike, vol, rate, expiry, div)\n",
    "callPrc"
   ]
  },
  {
   "cell_type": "code",
   "execution_count": 6,
   "metadata": {},
   "outputs": [],
   "source": [
    "## Call Payoff Function\n",
    "def callPayoff(spot, strike):\n",
    "    return np.maximum(spot - strike, 0.0)\n",
    "\n",
    "## Put Payoff Function\n",
    "def putPayoff(spot, strike):\n",
    "    return np.maximum(strike - spot, 0.0)"
   ]
  },
  {
   "cell_type": "code",
   "execution_count": 7,
   "metadata": {},
   "outputs": [],
   "source": [
    "from scipy.stats import binom\n",
    "\n",
    "def binomialPricer(S, K, r, v, q, T, n, payoff, verbose = True):\n",
    "    nodes = n  + 1\n",
    "    h = T / n\n",
    "    u = np.exp((r - q) * h + v * np.sqrt(h))\n",
    "    d = np.exp((r - q) * h - v * np.sqrt(h))\n",
    "    pstar = (np.exp((r - q) * h) - d) / (u - d)\n",
    "    \n",
    "    price = 0.0\n",
    "    \n",
    "    for i in range(nodes):\n",
    "        prob = binom.pmf(i, n, pstar)\n",
    "        spotT = S * (u ** i) * (d ** (n - i))\n",
    "        po = payoff(spotT, K) \n",
    "        price += po * prob\n",
    "        if verbose:\n",
    "            print(f\"({spotT:0.4f}, {po:0.4f}, {prob:0.4f})\")\n",
    "        \n",
    "    price *= np.exp(-r * T)\n",
    "    \n",
    "    return price\n"
   ]
  },
  {
   "cell_type": "code",
   "execution_count": 8,
   "metadata": {},
   "outputs": [
    {
     "name": "stdout",
     "output_type": "stream",
     "text": [
      "3.4544402138080796\n",
      "3.408694981783251\n",
      "3.3917972818360145\n",
      "3.401464570319705\n",
      "3.4046182898109367\n",
      "3.3993570672462536\n",
      "3.399604531287815\n",
      "3.4022193238912726\n",
      "3.3982871838738475\n",
      "3.399919762643824\n"
     ]
    }
   ],
   "source": [
    "N = [10, 25, 50, 75, 100, 125, 150, 175, 200, 500]\n",
    "\n",
    "for i in range(len(N)):\n",
    "    nsteps = N[i]\n",
    "    callPrc = binomialPricer(spot, strike, rate, vol, div, expiry, nsteps, callPayoff, verbose=False)\n",
    "    print(callPrc)"
   ]
  },
  {
   "cell_type": "markdown",
   "metadata": {},
   "source": [
    "## __The Option Greeks__\n",
    "\n",
    "___Option Greeks___ are formulas that express the change in the option price when an input to the formula changes, holding all other parameters fixed. These are the partial derivatives of the BSM formula with respect to each of its parameters. \n",
    "\n",
    "### __Definition of the Greeks__\n",
    "\n",
    "- __Delta ($\\Delta$):__ measures the option price change when the stock price increases by $\\$1$.\n",
    "\n",
    "- __Gamma ($\\Gamma$):__ measures the change in $\\Delta$ when the stock price increases by $\\$1$.\n",
    "\n",
    "- __Vega:__ measures the change in the option price when there is an increase in volatility of 1 percentage point. (No Greek letter for this one, they just wanted one to signify volatility)\n",
    "\n",
    "- __Theta ($\\Theta$):__ measures the change in the option price when there is a decrease in the time to maturity of 1 day.\n",
    "\n",
    "- __Rho ($\\rho$):__ measures the change in the option price when there is an increase in the interest rate of 1 percentage point (100 basis points)\n",
    "\n",
    "- __Psi ($\\Psi$):__ measures the change in the option price when there is an increase in the continuous dividend yield of 1 percentage point (100 basis points)\n",
    "\n",
    "### __The Formulas for Option Greeks__\n",
    "\n",
    "\n",
    "#### __Delta ($\\Delta$)__\n",
    "\n",
    "Delta measures the change in the option price for a $\\$1$ change in the stock price:\n",
    "\n",
    "<br>\n",
    "\n",
    "$$\n",
    "\\begin{align}\n",
    "\\mbox{Call Delta} &= \\frac{\\partial C(S, K, \\sigma, r, T - t, \\delta)}{\\partial S} = e^{-\\delta (T - t)} N(d_{1}) \\\\\n",
    "\\mbox{Put Delta} &= \\frac{\\partial P(S, K, \\sigma, r, T - t, \\delta)}{\\partial S} = e^{-\\delta (T - t)} N(-d_{1})\n",
    "\\end{align}\n",
    "$$\n",
    "\n",
    "<br>\n",
    "\n",
    "`Python` code for these are given below:"
   ]
  },
  {
   "cell_type": "code",
   "execution_count": 25,
   "metadata": {},
   "outputs": [],
   "source": [
    "def bsmCallDelta(spot, strike, vol, rate, tau, div):\n",
    "    d1 = (np.log(spot / strike) + (rate - div + 0.5 * vol * vol) * tau) / (vol * np.sqrt(tau))\n",
    "    delta = np.exp(-div * tau) * norm.cdf(d1)\n",
    "    \n",
    "    return delta"
   ]
  },
  {
   "cell_type": "code",
   "execution_count": 26,
   "metadata": {},
   "outputs": [
    {
     "name": "stdout",
     "output_type": "stream",
     "text": [
      "The Call Delta is:  0.5824\n"
     ]
    }
   ],
   "source": [
    "## McDonald Chapter 13 (page 383 3rd Edition)\n",
    "spot = 40.0\n",
    "strike = 40.0\n",
    "vol = 0.30\n",
    "rate = 0.08\n",
    "tau = 91/365\n",
    "div = 0.0\n",
    "\n",
    "callDelta = bsmCallDelta(spot, strike, vol, rate, tau, div)\n",
    "print(f\"The Call Delta is: {callDelta : 0.4f}\")"
   ]
  },
  {
   "cell_type": "code",
   "execution_count": 27,
   "metadata": {},
   "outputs": [],
   "source": [
    "def bsmPutDelta(spot, strike, vol, rate, tau, div):\n",
    "    d1 = (np.log(spot / strike) + (rate - div + 0.5 * vol * vol) * tau) / (vol * np.sqrt(tau))\n",
    "    delta = np.exp(-div * tau) * norm.cdf(-d1)\n",
    "\n",
    "    return delta"
   ]
  },
  {
   "cell_type": "code",
   "execution_count": 28,
   "metadata": {},
   "outputs": [
    {
     "name": "stdout",
     "output_type": "stream",
     "text": [
      "The Put Delta is:  0.4176\n"
     ]
    }
   ],
   "source": [
    "putDelta = bsmPutDelta(spot, strike, vol, rate, tau, div)\n",
    "print(f\"The Put Delta is: {putDelta : 0.4f}\")"
   ]
  },
  {
   "cell_type": "markdown",
   "metadata": {},
   "source": [
    "#### __Gamma ($\\Gamma$)__\n",
    "\n",
    "Gamma measures the change in delta when the stock price changes. \n",
    "\n",
    "<br>\n",
    "\n",
    "$$\n",
    "\\begin{align}\n",
    "\\mbox{Call Gamma} &=  \\frac{\\partial^{2} C(S, K, \\sigma, r, T - t, \\delta)}{\\partial S^{2}} = \\frac{e^{-\\delta (T - t)} N^{\\prime}(d_{1})}{S \\sigma \\sqrt{T - t}} \\\\\n",
    "\\mbox{Put Gamma} &= \\frac{\\partial^{2} P(S, K, \\sigma, r, T - t, \\delta)}{\\partial S^{2}} = \\mbox{Call Gamma}\n",
    "\\end{align}\n",
    "$$\n",
    "\n",
    "<br>\n",
    "\n",
    "#### __Theta ($\\Theta$)__\n",
    "\n",
    "Theta measures the change in the option price with respect to calendar time ($t$), holding fixed time to expiration ($T$):\n",
    "\n",
    "<br>\n",
    "\n",
    "$$\n",
    "\\begin{align}\n",
    "\\mbox{Call Theta} &= \\frac{\\partial C(S, K, \\sigma, r, T - t, \\delta)}{\\partial t} = \\delta S^{-\\delta (T-t)} N(d_{1}) - r K e^{-r(T-t)} N(d_{2}) - \\frac{K e^{-r(T-t)} N^{\\prime}(d_{2}) \\sigma}{2 \\sqrt{T -t}} \\\\\n",
    "\\mbox{Put Theta} &= \\frac{\\partial P(S, K, \\sigma, r, T - t, \\delta)}{\\partial t} = \\mbox{Call Theta} + r K e^{-r(T-t)} - \\delta S e^{-\\delta (T-t)}\n",
    "\\end{align}\n",
    "$$\n",
    "\n",
    "\n",
    "<br>\n",
    "\n",
    "#### __Vega__\n",
    "\n",
    "Vega measures the change in the option price when volatility changes. Some writers also use the term _lambda_ or _kappa_ to refer to this measure:\n",
    "\n",
    "<br>\n",
    "\n",
    "$$\n",
    "\\begin{align}\n",
    "\\mbox{Call vega} &= \\frac{\\partial C(S, K, \\sigma, r, T - t, \\delta)}{\\partial \\sigma} = S e^{-\\delta (T-t)} N^{\\prime}(d_{1}) \\sqrt{T - t} \\\\\n",
    "\\mbox{Put vega} &= \\frac{\\partial P(S, K, \\sigma, r, T - t, \\delta)}{\\partial \\sigma} = \\mbox{Call vega}\n",
    "\\end{align}\n",
    "$$\n",
    "\n",
    "<br>\n",
    "\n",
    "#### __Rho ($\\rho$)__\n",
    "\n",
    "Rho is the partial derivative of the option price with respect  to the interest rate: \n",
    "\n",
    "<br>\n",
    "\n",
    "$$\n",
    "\\begin{align}\n",
    "\\mbox{Call rho} &= \\frac{\\partial C(S, K, \\sigma, r, T - t, \\delta)}{\\partial r} = (T - t) K e^{-r (T - t)} N(d_{2}) \\\\\n",
    "\\mbox{Put rho} &= \\frac{\\partial P(S, K, \\sigma, r, T - t, \\delta)}{\\partial r} = -(T - t) K e^{-r (T - t)} N(-d_{2})\n",
    "\\end{align}\n",
    "$$\n",
    "\n",
    "<br>\n",
    "\n",
    "_Note:_ These expressions for rho assume a change in $r$ of $1.0$. We are typically interested in evaluating the effect of a change of $0.01$ (100 basis points) or $0.0001$ (1 basis point). To report rho as a change per percentage point in the interest rate, divide this measure by 100. To interpret it as a change per basis point, divide by 10,000.\n",
    "\n",
    "<br>\n",
    "\n",
    "#### __Psi ($\\Psi$)__\n",
    "\n",
    "Psi is the partial derivative of the option price with respect to the continuous divident yield:\n",
    "\n",
    "$$\n",
    "\\begin{align}\n",
    "\\mbox{Call Psi} &= \\frac{\\partial C(S, K, \\sigma, r, T - t, \\delta)}{\\partial \\delta} = -(T - t) S e^{-\\delta (T - t)} N(d_{1}) \\\\\n",
    "\\mbox{Put Psi} &= \\frac{\\partial P(S, K, \\sigma, r, T - t, \\delta)}{\\partial \\delta} = (T - t) S e^{-r (T - t)} N(-d_{1}) \n",
    "\\end{align}\n",
    "$$\n",
    "\n",
    "<br>\n",
    "\n",
    "_Note:_ To interpret Psi as a price change per percentage point change in the dividend yield, divide by 100. \n",
    "\n",
    "<br>\n",
    "\n",
    "_Note:_ $N^{\\prime}(\\cdot)$ is the Standard Normal PDF, while $N(\\cdot)$ is the Standard Normal CDF."
   ]
  },
  {
   "cell_type": "code",
   "execution_count": null,
   "metadata": {},
   "outputs": [],
   "source": []
  },
  {
   "cell_type": "code",
   "execution_count": null,
   "metadata": {},
   "outputs": [],
   "source": []
  },
  {
   "cell_type": "code",
   "execution_count": null,
   "metadata": {},
   "outputs": [],
   "source": []
  }
 ],
 "metadata": {
  "kernelspec": {
   "display_name": "Python 3",
   "language": "python",
   "name": "python3"
  },
  "language_info": {
   "codemirror_mode": {
    "name": "ipython",
    "version": 3
   },
   "file_extension": ".py",
   "mimetype": "text/x-python",
   "name": "python",
   "nbconvert_exporter": "python",
   "pygments_lexer": "ipython3",
   "version": "3.6.4"
  }
 },
 "nbformat": 4,
 "nbformat_minor": 2
}
