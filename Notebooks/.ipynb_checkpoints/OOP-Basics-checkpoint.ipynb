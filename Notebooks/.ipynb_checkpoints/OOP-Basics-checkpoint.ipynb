{
 "cells": [
  {
   "cell_type": "markdown",
   "metadata": {
    "slideshow": {
     "slide_type": "slide"
    }
   },
   "source": [
    "# __Finance 5350: Computational Financial Modeling__\n",
    "\n",
    "\n",
    "## __The Basics of Object Oriented Programming__\n",
    "\n"
   ]
  },
  {
   "cell_type": "markdown",
   "metadata": {
    "slideshow": {
     "slide_type": "slide"
    }
   },
   "source": [
    "## __The Basics of Object Oriented Programming__\n",
    "\n",
    "\n",
    "Object Oriented Programming (OOP) is based on a few foundation concepts, namely:\n",
    "\n",
    "1. Polymorphism\n",
    "2. Encapsulation\n",
    "3. Inheritance\n",
    "\n",
    "Often a fourth concept is added (one that we will use):\n",
    "\n",
    "4. Composition\n"
   ]
  },
  {
   "cell_type": "markdown",
   "metadata": {
    "slideshow": {
     "slide_type": "slide"
    }
   },
   "source": [
    "### __Polymorphism__ \n",
    "\n",
    "Let's start with polymorphism.\n",
    "\n",
    "See here: https://en.wikipedia.org/wiki/Polymorphism_(computer_science)\n",
    "\n",
    "The etymology of the word suggests a meaning similar to _\"taking many shapes.\"_ What this means for programming is that we set up some basic interfaces and then establish different types that instantiate that interface. In OOP we seek to represent real world entities or ___objects___ as software types. Then we can operate on these types in meaningful ways. Let's see this with and example that is meaningful to us as financial economists and financial engineers: the real world example of an option contract. We can create a new type with the keyword `class` as follows:"
   ]
  },
  {
   "cell_type": "code",
   "execution_count": 65,
   "metadata": {
    "slideshow": {
     "slide_type": "fragment"
    }
   },
   "outputs": [],
   "source": [
    "import numpy as np\n",
    "from scipy.stats import binom"
   ]
  },
  {
   "cell_type": "code",
   "execution_count": 66,
   "metadata": {
    "slideshow": {
     "slide_type": "fragment"
    }
   },
   "outputs": [],
   "source": [
    "class Option:\n",
    "    def __init__(self, expiry, strike):\n",
    "        self.expiry = expiry\n",
    "        self.strike = strike\n",
    "        \n",
    "    def payoff(self):\n",
    "        raise NotImplementedError(\"Inheriting classes must implement this method!\")"
   ]
  },
  {
   "cell_type": "markdown",
   "metadata": {
    "slideshow": {
     "slide_type": "subslide"
    }
   },
   "source": [
    "So far this class is not that useful, but we will make it more useful in short order. For now let's see how we can access the data contained in the class (called class attributes). "
   ]
  },
  {
   "cell_type": "code",
   "execution_count": 67,
   "metadata": {
    "slideshow": {
     "slide_type": "fragment"
    }
   },
   "outputs": [],
   "source": [
    "theOption = Option(1.0, 40.0)"
   ]
  },
  {
   "cell_type": "code",
   "execution_count": 68,
   "metadata": {
    "slideshow": {
     "slide_type": "fragment"
    }
   },
   "outputs": [
    {
     "data": {
      "text/plain": [
       "1.0"
      ]
     },
     "execution_count": 68,
     "metadata": {},
     "output_type": "execute_result"
    }
   ],
   "source": [
    "theOption.expiry"
   ]
  },
  {
   "cell_type": "code",
   "execution_count": 69,
   "metadata": {
    "slideshow": {
     "slide_type": "fragment"
    }
   },
   "outputs": [
    {
     "data": {
      "text/plain": [
       "40.0"
      ]
     },
     "execution_count": 69,
     "metadata": {},
     "output_type": "execute_result"
    }
   ],
   "source": [
    "theOption.strike"
   ]
  },
  {
   "cell_type": "code",
   "execution_count": 70,
   "metadata": {
    "slideshow": {
     "slide_type": "fragment"
    }
   },
   "outputs": [
    {
     "ename": "NotImplementedError",
     "evalue": "Inheriting classes must implement this method!",
     "output_type": "error",
     "traceback": [
      "\u001b[0;31m---------------------------------------------------------------------------\u001b[0m",
      "\u001b[0;31mNotImplementedError\u001b[0m                       Traceback (most recent call last)",
      "\u001b[0;32m<ipython-input-70-e164374a30f4>\u001b[0m in \u001b[0;36m<module>\u001b[0;34m()\u001b[0m\n\u001b[0;32m----> 1\u001b[0;31m \u001b[0mtheOption\u001b[0m\u001b[0;34m.\u001b[0m\u001b[0mpayoff\u001b[0m\u001b[0;34m(\u001b[0m\u001b[0;34m)\u001b[0m\u001b[0;34m\u001b[0m\u001b[0m\n\u001b[0m",
      "\u001b[0;32m<ipython-input-66-6d4b47fea3a4>\u001b[0m in \u001b[0;36mpayoff\u001b[0;34m(self)\u001b[0m\n\u001b[1;32m      5\u001b[0m \u001b[0;34m\u001b[0m\u001b[0m\n\u001b[1;32m      6\u001b[0m     \u001b[0;32mdef\u001b[0m \u001b[0mpayoff\u001b[0m\u001b[0;34m(\u001b[0m\u001b[0mself\u001b[0m\u001b[0;34m)\u001b[0m\u001b[0;34m:\u001b[0m\u001b[0;34m\u001b[0m\u001b[0m\n\u001b[0;32m----> 7\u001b[0;31m         \u001b[0;32mraise\u001b[0m \u001b[0mNotImplementedError\u001b[0m\u001b[0;34m(\u001b[0m\u001b[0;34m\"Inheriting classes must implement this method!\"\u001b[0m\u001b[0;34m)\u001b[0m\u001b[0;34m\u001b[0m\u001b[0m\n\u001b[0m",
      "\u001b[0;31mNotImplementedError\u001b[0m: Inheriting classes must implement this method!"
     ]
    }
   ],
   "source": [
    "theOption.payoff()"
   ]
  },
  {
   "cell_type": "markdown",
   "metadata": {
    "slideshow": {
     "slide_type": "slide"
    }
   },
   "source": [
    "### Inheritance\n",
    "\n",
    "Let's see how we can use the concept of inheritance to make our class more useful for polymorphism. "
   ]
  },
  {
   "cell_type": "code",
   "execution_count": 71,
   "metadata": {
    "slideshow": {
     "slide_type": "subslide"
    }
   },
   "outputs": [],
   "source": [
    "class CallOption(Option):\n",
    "    def payoff(self, spot):\n",
    "        return np.maximum(spot - self.strike, 0.0)\n",
    "        \n",
    "class PutOption(Option):\n",
    "    def payoff(self, spot):\n",
    "        return np.maximum(self.strike - spot, 0.0)"
   ]
  },
  {
   "cell_type": "code",
   "execution_count": 72,
   "metadata": {
    "slideshow": {
     "slide_type": "fragment"
    }
   },
   "outputs": [
    {
     "data": {
      "text/plain": [
       "1.0"
      ]
     },
     "execution_count": 72,
     "metadata": {},
     "output_type": "execute_result"
    }
   ],
   "source": [
    "spot = 41.0\n",
    "theCall = CallOption(1.0, 40.0)\n",
    "theCall.payoff(spot)"
   ]
  },
  {
   "cell_type": "code",
   "execution_count": 73,
   "metadata": {
    "slideshow": {
     "slide_type": "fragment"
    }
   },
   "outputs": [
    {
     "data": {
      "text/plain": [
       "1.0"
      ]
     },
     "execution_count": 73,
     "metadata": {},
     "output_type": "execute_result"
    }
   ],
   "source": [
    "spot = 39.0\n",
    "thePut = PutOption(1.0, 40.0)\n",
    "thePut.payoff(spot)"
   ]
  },
  {
   "cell_type": "markdown",
   "metadata": {
    "slideshow": {
     "slide_type": "slide"
    }
   },
   "source": [
    "Now let's return to our `binomialPricer` function to see how we can benefit from polymorphism with these new types."
   ]
  },
  {
   "cell_type": "code",
   "execution_count": 74,
   "metadata": {
    "slideshow": {
     "slide_type": "subslide"
    }
   },
   "outputs": [],
   "source": [
    "def binomialPricer(option, S, r, v, q, n):\n",
    "    nodes = n  + 1\n",
    "    T = option.expiry\n",
    "    K = option.strike\n",
    "    h = T / n\n",
    "    u = np.exp((r - q) * h + v * np.sqrt(h))\n",
    "    d = np.exp((r - q) * h - v * np.sqrt(h))\n",
    "    pstar = (np.exp((r - q) * h) - d) / (u - d)\n",
    "    \n",
    "    price = 0.0\n",
    "    \n",
    "    for i in range(nodes):\n",
    "        prob = binom.pmf(i, n, pstar)\n",
    "        spotT = S * (u ** i) * (d ** (n - i))\n",
    "        po = option.payoff(spotT) \n",
    "        price += po * prob\n",
    "        \n",
    "    price *= np.exp(-r * T)\n",
    "    \n",
    "    return price"
   ]
  },
  {
   "cell_type": "code",
   "execution_count": 75,
   "metadata": {
    "slideshow": {
     "slide_type": "subslide"
    }
   },
   "outputs": [
    {
     "name": "stdout",
     "output_type": "stream",
     "text": [
      "The Call Option Price is:  6.9603\n"
     ]
    }
   ],
   "source": [
    "spot = 41.0\n",
    "rate = 0.08\n",
    "vol = 0.30\n",
    "expiry = 1.0\n",
    "strike = 40.0\n",
    "div = 0.0\n",
    "nsteps = 500\n",
    "\n",
    "theCall = CallOption(expiry, strike)\n",
    "theCallPrc = binomialPricer(theCall, spot, rate, vol, div, nsteps)\n",
    "print(f\"The Call Option Price is: {theCallPrc : 0.4f}\")"
   ]
  },
  {
   "cell_type": "markdown",
   "metadata": {
    "slideshow": {
     "slide_type": "subslide"
    }
   },
   "source": [
    "BUT we can use this same exact function without changing a thing about it now to price a put option as well!"
   ]
  },
  {
   "cell_type": "code",
   "execution_count": 76,
   "metadata": {
    "slideshow": {
     "slide_type": "subslide"
    }
   },
   "outputs": [
    {
     "name": "stdout",
     "output_type": "stream",
     "text": [
      "The Put Price is:  2.8849\n"
     ]
    }
   ],
   "source": [
    "thePut = PutOption(expiry, strike)\n",
    "thePutPrc = binomialPricer(thePut, spot, rate, vol, div, nsteps)\n",
    "print(f\"The Put Price is: {thePutPrc : 0.4f}\")"
   ]
  },
  {
   "cell_type": "markdown",
   "metadata": {
    "slideshow": {
     "slide_type": "subslide"
    }
   },
   "source": [
    "This is polymorphism at work. The function `binomialPricer` takes and `Option` type. With inheritance we can make sub-types. Anywhere a parent type can go the child type can go. Thus a `CallOption` is an `Option` and a `PutOption` is an `Option`. So the class `Option` provides an interface through which we can send different sub-types to the algorithm. We only have to write this algorithm one time and it can take different kinds of `Option` sub-types that bring with them their own `payoff` methods, and thus their own behavior. This is the meaning of polymorphism! And we can see how the concept of inheritance makes it possible. Notice that we could ship to clients and they could create their own sub-types that would work with our algorithm. That is an amazing thing!\n",
    "\n"
   ]
  },
  {
   "cell_type": "markdown",
   "metadata": {
    "slideshow": {
     "slide_type": "slide"
    }
   },
   "source": [
    "### Encapsulation\n",
    "\n",
    "The princple of encapsulation is a sort of best practice that says that we should hide data from the client that is only needed internally for the algorithm. When you think _\"encapsulation\"_ think the phrase _\"data hiding.\"_ We have actually already seen this:"
   ]
  },
  {
   "cell_type": "code",
   "execution_count": 77,
   "metadata": {
    "slideshow": {
     "slide_type": "fragment"
    }
   },
   "outputs": [
    {
     "data": {
      "text/plain": [
       "1.0"
      ]
     },
     "execution_count": 77,
     "metadata": {},
     "output_type": "execute_result"
    }
   ],
   "source": [
    "thePut.expiry"
   ]
  },
  {
   "cell_type": "code",
   "execution_count": 78,
   "metadata": {
    "slideshow": {
     "slide_type": "fragment"
    }
   },
   "outputs": [
    {
     "data": {
      "text/plain": [
       "40.0"
      ]
     },
     "execution_count": 78,
     "metadata": {},
     "output_type": "execute_result"
    }
   ],
   "source": [
    "thePut.strike"
   ]
  },
  {
   "cell_type": "markdown",
   "metadata": {
    "slideshow": {
     "slide_type": "subslide"
    }
   },
   "source": [
    "We have hidden these variables behind the class infrastructure. But as we can see they are readily available. An in `Python` the user can change them using the dot notation (\".\"). "
   ]
  },
  {
   "cell_type": "code",
   "execution_count": 79,
   "metadata": {
    "slideshow": {
     "slide_type": "fragment"
    }
   },
   "outputs": [],
   "source": [
    "thePut.expiry = 0.75"
   ]
  },
  {
   "cell_type": "code",
   "execution_count": 80,
   "metadata": {
    "slideshow": {
     "slide_type": "fragment"
    }
   },
   "outputs": [
    {
     "data": {
      "text/plain": [
       "0.75"
      ]
     },
     "execution_count": 80,
     "metadata": {},
     "output_type": "execute_result"
    }
   ],
   "source": [
    "thePut.expiry"
   ]
  },
  {
   "cell_type": "markdown",
   "metadata": {
    "slideshow": {
     "slide_type": "subslide"
    }
   },
   "source": [
    "This is not strict encapsulation, which would say that the end user should not be allowed to change these values that are operated on interally within the class. Python allows us to handle this though with a slight modification to our base class:"
   ]
  },
  {
   "cell_type": "code",
   "execution_count": 81,
   "metadata": {
    "slideshow": {
     "slide_type": "subslide"
    }
   },
   "outputs": [],
   "source": [
    "class Option:\n",
    "    def __init__(self, expiry, strike):\n",
    "        self.__expiry = expiry\n",
    "        self.__strike = strike\n",
    "        \n",
    "    def payoff(self):\n",
    "        raise NotImplementedError(\"Inheriting classes must implement this method!\")"
   ]
  },
  {
   "cell_type": "markdown",
   "metadata": {
    "slideshow": {
     "slide_type": "subslide"
    }
   },
   "source": [
    "The \"dunder\" i.e. the `__` makes it so that the end user cannot change these values willy nilly. Let's re-implement the subclasses and see how this works:"
   ]
  },
  {
   "cell_type": "code",
   "execution_count": 82,
   "metadata": {
    "slideshow": {
     "slide_type": "subslide"
    }
   },
   "outputs": [],
   "source": [
    "class CallOption(Option):\n",
    "    def payoff(self, spot):\n",
    "        return np.maximum(spot - self.__strike, 0.0)\n",
    "        \n",
    "class PutOption(Option):\n",
    "    def payoff(self, spot):\n",
    "        return np.maximum(self.__strike - spot, 0.0)"
   ]
  },
  {
   "cell_type": "code",
   "execution_count": 83,
   "metadata": {
    "slideshow": {
     "slide_type": "fragment"
    }
   },
   "outputs": [],
   "source": [
    "theCall = CallOption(1.0, 40.0)"
   ]
  },
  {
   "cell_type": "code",
   "execution_count": 84,
   "metadata": {
    "slideshow": {
     "slide_type": "fragment"
    }
   },
   "outputs": [
    {
     "ename": "AttributeError",
     "evalue": "'CallOption' object has no attribute 'strike'",
     "output_type": "error",
     "traceback": [
      "\u001b[0;31m---------------------------------------------------------------------------\u001b[0m",
      "\u001b[0;31mAttributeError\u001b[0m                            Traceback (most recent call last)",
      "\u001b[0;32m<ipython-input-84-f4a641ee2a87>\u001b[0m in \u001b[0;36m<module>\u001b[0;34m()\u001b[0m\n\u001b[0;32m----> 1\u001b[0;31m \u001b[0mtheCall\u001b[0m\u001b[0;34m.\u001b[0m\u001b[0mstrike\u001b[0m\u001b[0;34m\u001b[0m\u001b[0m\n\u001b[0m",
      "\u001b[0;31mAttributeError\u001b[0m: 'CallOption' object has no attribute 'strike'"
     ]
    }
   ],
   "source": [
    "theCall.strike"
   ]
  },
  {
   "cell_type": "code",
   "execution_count": 85,
   "metadata": {
    "slideshow": {
     "slide_type": "fragment"
    }
   },
   "outputs": [
    {
     "ename": "AttributeError",
     "evalue": "'CallOption' object has no attribute '__strike'",
     "output_type": "error",
     "traceback": [
      "\u001b[0;31m---------------------------------------------------------------------------\u001b[0m",
      "\u001b[0;31mAttributeError\u001b[0m                            Traceback (most recent call last)",
      "\u001b[0;32m<ipython-input-85-8a429115b972>\u001b[0m in \u001b[0;36m<module>\u001b[0;34m()\u001b[0m\n\u001b[0;32m----> 1\u001b[0;31m \u001b[0mtheCall\u001b[0m\u001b[0;34m.\u001b[0m\u001b[0m__strike\u001b[0m\u001b[0;34m\u001b[0m\u001b[0m\n\u001b[0m",
      "\u001b[0;31mAttributeError\u001b[0m: 'CallOption' object has no attribute '__strike'"
     ]
    }
   ],
   "source": [
    "theCall.__strike"
   ]
  },
  {
   "cell_type": "markdown",
   "metadata": {
    "slideshow": {
     "slide_type": "subslide"
    }
   },
   "source": [
    "With this extra step we can enforce a more strict encapsulation or \"data hiding.\" This allows us to provide a clean interface to clients while guaranteeing that they won't be able to mess anything up interally by writing code externally.\n",
    "\n",
    "<br>\n",
    "\n",
    "It could be true, however that we want to allow end users to be able to change these values for their purposes. We can allow this but by providing an interface to do this while still achieving encapsulation with what are called `Properties`. Let's see how we can provide a property to allow access to class attributes. "
   ]
  },
  {
   "cell_type": "code",
   "execution_count": 90,
   "metadata": {
    "slideshow": {
     "slide_type": "subslide"
    }
   },
   "outputs": [],
   "source": [
    "class Option:\n",
    "    def __init__(self, expiry, strike):\n",
    "        self.__expiry = expiry\n",
    "        self.__strike = strike\n",
    "        \n",
    "    def payoff(self):\n",
    "        raise NotImplementedError(\"Inheriting classes must implement this method!\")\n",
    "\n",
    "    @property\n",
    "    def expiry(self):\n",
    "        return self.__expiry\n",
    "    \n",
    "    @property\n",
    "    def strike(self):\n",
    "        return self.__strike\n",
    "\n",
    "class CallOption(Option):\n",
    "    def payoff(self, spot):\n",
    "        return np.maximum(spot - self.__strike, 0.0)\n",
    "       \n",
    "class PutOption(Option):\n",
    "    def payoff(self, spot):\n",
    "        return np.maximum(self.__strike - spot, 0.0)"
   ]
  },
  {
   "cell_type": "code",
   "execution_count": 92,
   "metadata": {
    "slideshow": {
     "slide_type": "fragment"
    }
   },
   "outputs": [
    {
     "data": {
      "text/plain": [
       "1.0"
      ]
     },
     "execution_count": 92,
     "metadata": {},
     "output_type": "execute_result"
    }
   ],
   "source": [
    "theCall = CallOption(1.0, 40.0)\n",
    "theCall.expiry"
   ]
  },
  {
   "cell_type": "code",
   "execution_count": 93,
   "metadata": {
    "slideshow": {
     "slide_type": "fragment"
    }
   },
   "outputs": [
    {
     "data": {
      "text/plain": [
       "40.0"
      ]
     },
     "execution_count": 93,
     "metadata": {},
     "output_type": "execute_result"
    }
   ],
   "source": [
    "theCall.strike"
   ]
  },
  {
   "cell_type": "markdown",
   "metadata": {},
   "source": [
    "But we still won't allow the end user to set the values to something new."
   ]
  },
  {
   "cell_type": "code",
   "execution_count": 94,
   "metadata": {
    "slideshow": {
     "slide_type": "fragment"
    }
   },
   "outputs": [
    {
     "ename": "AttributeError",
     "evalue": "can't set attribute",
     "output_type": "error",
     "traceback": [
      "\u001b[0;31m---------------------------------------------------------------------------\u001b[0m",
      "\u001b[0;31mAttributeError\u001b[0m                            Traceback (most recent call last)",
      "\u001b[0;32m<ipython-input-94-173ac35edf4b>\u001b[0m in \u001b[0;36m<module>\u001b[0;34m()\u001b[0m\n\u001b[0;32m----> 1\u001b[0;31m \u001b[0mtheCall\u001b[0m\u001b[0;34m.\u001b[0m\u001b[0mexpiry\u001b[0m \u001b[0;34m=\u001b[0m \u001b[0;36m0.75\u001b[0m\u001b[0;34m\u001b[0m\u001b[0m\n\u001b[0m",
      "\u001b[0;31mAttributeError\u001b[0m: can't set attribute"
     ]
    }
   ],
   "source": [
    "theCall.expiry = 0.75"
   ]
  },
  {
   "cell_type": "markdown",
   "metadata": {},
   "source": [
    "We can allow this with a setter property:"
   ]
  },
  {
   "cell_type": "code",
   "execution_count": 95,
   "metadata": {
    "slideshow": {
     "slide_type": "subslide"
    }
   },
   "outputs": [],
   "source": [
    "class Option:\n",
    "    def __init__(self, expiry, strike):\n",
    "        self.__expiry = expiry\n",
    "        self.__strike = strike\n",
    "        \n",
    "    def payoff(self):\n",
    "        raise NotImplementedError(\"Inheriting classes must implement this method!\")\n",
    "\n",
    "    @property\n",
    "    def expiry(self):\n",
    "        return self.__expiry\n",
    "    \n",
    "    @property\n",
    "    def strike(self):\n",
    "        return self.__strike\n",
    "    \n",
    "    @expiry.setter\n",
    "    def expiry(self, newExpiry):\n",
    "        self.__expiry = newExpiry\n",
    "        \n",
    "    @strike.setter\n",
    "    def strike(self, newStrike):\n",
    "        self.__strike = newStrike\n",
    "\n",
    "class CallOption(Option):\n",
    "    def payoff(self, spot):\n",
    "        return np.maximum(spot - self.__strike, 0.0)\n",
    "       \n",
    "class PutOption(Option):\n",
    "    def payoff(self, spot):\n",
    "        return np.maximum(self.__strike - spot, 0.0)"
   ]
  },
  {
   "cell_type": "code",
   "execution_count": 97,
   "metadata": {
    "slideshow": {
     "slide_type": "fragment"
    }
   },
   "outputs": [],
   "source": [
    "theCall = CallOption(1.0, 40.0)"
   ]
  },
  {
   "cell_type": "code",
   "execution_count": 98,
   "metadata": {
    "slideshow": {
     "slide_type": "fragment"
    }
   },
   "outputs": [
    {
     "data": {
      "text/plain": [
       "1.0"
      ]
     },
     "execution_count": 98,
     "metadata": {},
     "output_type": "execute_result"
    }
   ],
   "source": [
    "theCall.expiry"
   ]
  },
  {
   "cell_type": "code",
   "execution_count": 99,
   "metadata": {
    "slideshow": {
     "slide_type": "fragment"
    }
   },
   "outputs": [
    {
     "data": {
      "text/plain": [
       "0.75"
      ]
     },
     "execution_count": 99,
     "metadata": {},
     "output_type": "execute_result"
    }
   ],
   "source": [
    "theCall.expiry = 0.75\n",
    "theCall.expiry"
   ]
  },
  {
   "cell_type": "markdown",
   "metadata": {
    "slideshow": {
     "slide_type": "subslide"
    }
   },
   "source": [
    "This is still principled encapsulation because, while we are allowing the getting and setting of the data attributes we are guaranteeing that the end user does so only through the sanctioned interface that we provide. Thus we can allow flexibility while still keep our code base clean and safe from getting messed up from external use. \n",
    "\n",
    "<br>\n",
    "\n",
    "So, in review, we've seen the basics of OOP: 1) polymorphism, 2) inheritance, and 3) data encapsulation. Let's now talk about composition. \n",
    "\n"
   ]
  },
  {
   "cell_type": "markdown",
   "metadata": {
    "slideshow": {
     "slide_type": "slide"
    }
   },
   "source": [
    "### __Composition__\n",
    "\n",
    "When you think about inheritance you want to think about an _\"is a\"_ relationship. For example, a `CallOption` is an `Option`. And a `PutOption` is an `Option`. You can build up pretty deep hierarchies using inheritance. An alternative is to use the concept of composition. When you think about composition you want to think about a _\"has a\"_ relationship. For example, we could have made it so that an `Option` has a `payoff` function. This probably matches the real-world scenario a little bit better. There is a big war over whether one should use inheritance or composition to create objects. Practically speaking, we can use both to do what we want. \n",
    "\n",
    "<br>\n",
    "\n",
    "Let's see how we can use the best of both:"
   ]
  },
  {
   "cell_type": "code",
   "execution_count": 124,
   "metadata": {
    "slideshow": {
     "slide_type": "subslide"
    }
   },
   "outputs": [],
   "source": [
    "class VanillaPayoff:\n",
    "    def __init__(self, strike):\n",
    "        self.strike = strike\n",
    "\n",
    "    def value(self, spot):\n",
    "        raise NotImplementedError(\"Subclasses must implement this method!\")\n",
    "                \n",
    "class VanillaCallPayoff(VanillaPayoff):\n",
    "    def value(self, spot):\n",
    "        return np.maximum(spot - self.strike, 0.0)\n",
    "       \n",
    "class VanillaPutPayoff(VanillaPayoff):\n",
    "    def value(self, spot):\n",
    "        return np.maximum(self.strike - spot, 0.0)\n",
    "\n",
    "class Option:\n",
    "    def __init__(self, expiry, payoff):\n",
    "        self.__expiry = expiry\n",
    "        self.__payoff = payoff\n",
    "        \n",
    "    def payoff(self, spot):\n",
    "        return self.__payoff.value(spot)\n",
    "\n",
    "    @property\n",
    "    def expiry(self):\n",
    "        return self.__expiry\n",
    "    \n",
    "    @expiry.setter\n",
    "    def expiry(self, newExpiry):\n",
    "        self.__expiry = newExpiry"
   ]
  },
  {
   "cell_type": "code",
   "execution_count": 125,
   "metadata": {
    "slideshow": {
     "slide_type": "subslide"
    }
   },
   "outputs": [
    {
     "data": {
      "text/plain": [
       "40.0"
      ]
     },
     "execution_count": 125,
     "metadata": {},
     "output_type": "execute_result"
    }
   ],
   "source": [
    "callPO = VanillaCallPayoff(40.0)\n",
    "callPO.strike"
   ]
  },
  {
   "cell_type": "code",
   "execution_count": 126,
   "metadata": {
    "slideshow": {
     "slide_type": "fragment"
    }
   },
   "outputs": [
    {
     "data": {
      "text/plain": [
       "1.0"
      ]
     },
     "execution_count": 126,
     "metadata": {},
     "output_type": "execute_result"
    }
   ],
   "source": [
    "callPO.value(41.0)"
   ]
  },
  {
   "cell_type": "code",
   "execution_count": 127,
   "metadata": {
    "slideshow": {
     "slide_type": "fragment"
    }
   },
   "outputs": [
    {
     "data": {
      "text/plain": [
       "1.0"
      ]
     },
     "execution_count": 127,
     "metadata": {},
     "output_type": "execute_result"
    }
   ],
   "source": [
    "theCall = Option(1.0, callPO)\n",
    "theCall.payoff(41.0)"
   ]
  },
  {
   "cell_type": "markdown",
   "metadata": {
    "slideshow": {
     "slide_type": "subslide"
    }
   },
   "source": [
    "This works, but is a bit cumbersome. Since functions are first class objects in `Python` we don't really need to use inheritance for the payoffs. Functions will do just fine. "
   ]
  },
  {
   "cell_type": "code",
   "execution_count": 131,
   "metadata": {
    "slideshow": {
     "slide_type": "subslide"
    }
   },
   "outputs": [],
   "source": [
    "def callPayoff(spot, strike):\n",
    "        return np.maximum(spot - strike, 0.0)\n",
    "       \n",
    "def putPayoff(spot, strike):\n",
    "        return np.maximum(strike - spot, 0.0)\n",
    "\n",
    "class Option:\n",
    "    def __init__(self, expiry, strike, payoff):\n",
    "        self.__expiry = expiry\n",
    "        self.__strike = strike\n",
    "        self.__payoff = payoff\n",
    "        \n",
    "    @property\n",
    "    def expiry(self):\n",
    "        return self.__expiry\n",
    "    \n",
    "    @expiry.setter\n",
    "    def expiry(self, newExpiry):\n",
    "        self.__expiry = newExpiry\n",
    "        \n",
    "    @property\n",
    "    def strike(self):\n",
    "        return self.__strike\n",
    "    \n",
    "    @strike.setter\n",
    "    def strike(self, newStrike):\n",
    "        self.__strike = newStrike\n",
    "        \n",
    "    def payoff(self, spot):\n",
    "        return self.__payoff(spot, self.__strike)        "
   ]
  },
  {
   "cell_type": "code",
   "execution_count": 132,
   "metadata": {
    "slideshow": {
     "slide_type": "subslide"
    }
   },
   "outputs": [
    {
     "data": {
      "text/plain": [
       "1.0"
      ]
     },
     "execution_count": 132,
     "metadata": {},
     "output_type": "execute_result"
    }
   ],
   "source": [
    "theCall = Option(1.0, 40.0, callPayoff)\n",
    "theCall.payoff(41.0)"
   ]
  },
  {
   "cell_type": "code",
   "execution_count": 133,
   "metadata": {
    "slideshow": {
     "slide_type": "fragment"
    }
   },
   "outputs": [
    {
     "data": {
      "text/plain": [
       "1.0"
      ]
     },
     "execution_count": 133,
     "metadata": {},
     "output_type": "execute_result"
    }
   ],
   "source": [
    "thePut = Option(1.0, 40.0, putPayoff)\n",
    "thePut.payoff(39.0)"
   ]
  },
  {
   "cell_type": "code",
   "execution_count": 134,
   "metadata": {
    "slideshow": {
     "slide_type": "fragment"
    }
   },
   "outputs": [
    {
     "data": {
      "text/plain": [
       "2.8849317768040366"
      ]
     },
     "execution_count": 134,
     "metadata": {},
     "output_type": "execute_result"
    }
   ],
   "source": [
    "binomialPricer(thePut, spot, rate, vol, div, nsteps)"
   ]
  },
  {
   "cell_type": "code",
   "execution_count": 136,
   "metadata": {
    "slideshow": {
     "slide_type": "fragment"
    }
   },
   "outputs": [
    {
     "data": {
      "text/plain": [
       "6.9602779213377195"
      ]
     },
     "execution_count": 136,
     "metadata": {},
     "output_type": "execute_result"
    }
   ],
   "source": [
    "binomialPricer(theCall, spot, rate, vol, div, nsteps)"
   ]
  },
  {
   "cell_type": "code",
   "execution_count": null,
   "metadata": {},
   "outputs": [],
   "source": []
  }
 ],
 "metadata": {
  "celltoolbar": "Slideshow",
  "kernelspec": {
   "display_name": "Python 3",
   "language": "python",
   "name": "python3"
  },
  "language_info": {
   "codemirror_mode": {
    "name": "ipython",
    "version": 3
   },
   "file_extension": ".py",
   "mimetype": "text/x-python",
   "name": "python",
   "nbconvert_exporter": "python",
   "pygments_lexer": "ipython3",
   "version": "3.6.4"
  }
 },
 "nbformat": 4,
 "nbformat_minor": 2
}
