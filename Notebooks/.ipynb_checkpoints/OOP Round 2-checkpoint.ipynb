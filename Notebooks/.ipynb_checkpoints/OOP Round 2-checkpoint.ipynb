{
 "cells": [
  {
   "cell_type": "markdown",
   "metadata": {},
   "source": [
    "## Two Ways to Think About Polymorphism\n",
    "\n",
    "\n",
    "There are two competing ways to achieve polymorphism in your code bas:\n",
    "\n",
    "1. Inheritance\n",
    "2. Composition (aka Aggregation)\n",
    "\n",
    "\n",
    "### Inheritance\n",
    "\n",
    "Let's first take a look inheritance. We had code like this:\n"
   ]
  },
  {
   "cell_type": "code",
   "execution_count": 3,
   "metadata": {
    "collapsed": false
   },
   "outputs": [],
   "source": [
    "import numpy as np\n",
    "\n",
    "class Option(object):\n",
    "    def __init__(self, strike, expiry):\n",
    "        self.strike = strike\n",
    "        self.expiry = expiry\n",
    "        \n",
    "    def value(self):\n",
    "        pass\n",
    "    \n",
    "class VanillaCallOption(Option):\n",
    "    def value(self, spot):\n",
    "        return np.maximum(spot - self.strike, 0.0)\n",
    "\n",
    "class VanillaPutOption(Option):\n",
    "    def value(self, spot):\n",
    "        return np.maximum(self.strike - spot, 0.0)"
   ]
  },
  {
   "cell_type": "code",
   "execution_count": 6,
   "metadata": {
    "collapsed": false
   },
   "outputs": [],
   "source": [
    "def EuropeanBinomialPricer(option, spot):\n",
    "    # could use either a call or put\n",
    "    pass"
   ]
  },
  {
   "cell_type": "markdown",
   "metadata": {},
   "source": [
    "### Composition\n",
    "\n",
    "Let's now take a look at the concept of composition. Let's first model students."
   ]
  },
  {
   "cell_type": "code",
   "execution_count": 7,
   "metadata": {
    "collapsed": true
   },
   "outputs": [],
   "source": [
    "class Address(object):\n",
    "    def __init__(self, street, city, state, zipcode):\n",
    "        self.street = street\n",
    "        self.city = city\n",
    "        self.state = state\n",
    "        self.zipcode = zipcode\n",
    "        \n",
    "    def Print(self):\n",
    "        pass\n",
    "\n",
    "class HomeAddress(Address):\n",
    "    pass\n",
    "\n",
    "class BusinessAddress(Address):\n",
    "    pass\n",
    "\n",
    "class Student(object):\n",
    "    def __init__(self, first_name, last_name, anumber, address):\n",
    "        self.first_name = first_name\n",
    "        self.last_name = last_name\n",
    "        self.anumber = anumber\n",
    "        self.address = address\n",
    "        \n",
    "        "
   ]
  },
  {
   "cell_type": "code",
   "execution_count": 10,
   "metadata": {
    "collapsed": true
   },
   "outputs": [],
   "source": [
    "address1 = Address(\"3506 Old Main Hill\", \"Logan\", \"UT\", \"84322\")\n",
    "student1 = Student(\"Bob\", \"Zimmerman\", \"A0988764\", address1)"
   ]
  },
  {
   "cell_type": "code",
   "execution_count": 11,
   "metadata": {
    "collapsed": false
   },
   "outputs": [
    {
     "name": "stdout",
     "output_type": "stream",
     "text": [
      "Variable                 Type        Data/Info\n",
      "----------------------------------------------\n",
      "Address                  type        <class '__main__.Address'>\n",
      "EuropeanBinomialPricer   function    <function EuropeanBinomia<...>er at 0x00000253F1540378>\n",
      "Option                   type        <class '__main__.Option'>\n",
      "Student                  type        <class '__main__.Student'>\n",
      "VanillaCallOption        type        <class '__main__.VanillaCallOption'>\n",
      "VanillaPutOption         type        <class '__main__.VanillaPutOption'>\n",
      "address1                 Address     <__main__.Address object at 0x00000253F154BF28>\n",
      "np                       module      <module 'numpy' from 'C:\\<...>ges\\\\numpy\\\\__init__.py'>\n",
      "student1                 Student     <__main__.Student object at 0x00000253F154BEF0>\n"
     ]
    }
   ],
   "source": [
    "whos"
   ]
  },
  {
   "cell_type": "code",
   "execution_count": 12,
   "metadata": {
    "collapsed": false
   },
   "outputs": [
    {
     "data": {
      "text/plain": [
       "<__main__.Address at 0x253f154bf28>"
      ]
     },
     "execution_count": 12,
     "metadata": {},
     "output_type": "execute_result"
    }
   ],
   "source": [
    "student1.address"
   ]
  },
  {
   "cell_type": "code",
   "execution_count": 16,
   "metadata": {
    "collapsed": false
   },
   "outputs": [
    {
     "data": {
      "text/plain": [
       "'84322'"
      ]
     },
     "execution_count": 16,
     "metadata": {},
     "output_type": "execute_result"
    }
   ],
   "source": [
    "student1.address.zipcode"
   ]
  },
  {
   "cell_type": "markdown",
   "metadata": {},
   "source": [
    "## The \"Is A\" vs. The \"Has A\" Relationship\n",
    "\n",
    "\n",
    "In the different ways to achieve polymorphism, we can think about different kinds of relationships:\n",
    "\n",
    "1. With inheritance we are thinking about a \"is a\" relationship. For example, A `VanillaCallOption` \"is an\" `Option` because it inherits from the base class `Option`. \n",
    "2. With composition we can think about the \"has a\" relationship. For example, a `Student` object \"has a\" `Address`, which itself is an instantiation of a class that we have created. \n",
    "\n",
    "\n",
    "Let's think about this for option pricing:"
   ]
  },
  {
   "cell_type": "code",
   "execution_count": 20,
   "metadata": {
    "collapsed": true
   },
   "outputs": [],
   "source": [
    "class VanillaPayoff(object):\n",
    "    def __init__(self, strike):\n",
    "        self.strike = strike\n",
    "        \n",
    "    def payoff(self):\n",
    "        pass\n",
    "    \n",
    "class VanillaCallPayoff(VanillaPayoff):\n",
    "    def payoff(self, spot):\n",
    "        return np.maximum(spot - self.strike, 0.0)\n",
    "        \n",
    "class VanillaPutPayoff(VanillaPayoff):\n",
    "    def payoff(self, spot):\n",
    "        return np.maximum(self.strike - spot, 0.0)\n",
    "\n",
    "    \n",
    "class ExoticPayoff(object):\n",
    "    pass\n",
    "\n",
    "class LookbackCallPayoff(ExoticPayoff):\n",
    "    pass"
   ]
  },
  {
   "cell_type": "code",
   "execution_count": 19,
   "metadata": {
    "collapsed": true
   },
   "outputs": [],
   "source": [
    "class Option(object):\n",
    "    def __init__(self, expiry, payoff):\n",
    "        self.expiry = expiry\n",
    "        self.payoff = payoff\n",
    "        \n",
    "    def value(self, spot):\n",
    "        return self.payoff.payoff(spot)\n",
    "        \n",
    "    "
   ]
  },
  {
   "cell_type": "code",
   "execution_count": null,
   "metadata": {
    "collapsed": true
   },
   "outputs": [],
   "source": []
  }
 ],
 "metadata": {
  "kernelspec": {
   "display_name": "Python [Root]",
   "language": "python",
   "name": "Python [Root]"
  },
  "language_info": {
   "codemirror_mode": {
    "name": "ipython",
    "version": 3
   },
   "file_extension": ".py",
   "mimetype": "text/x-python",
   "name": "python",
   "nbconvert_exporter": "python",
   "pygments_lexer": "ipython3",
   "version": "3.5.2"
  }
 },
 "nbformat": 4,
 "nbformat_minor": 0
}
