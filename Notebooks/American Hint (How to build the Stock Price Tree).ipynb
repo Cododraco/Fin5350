{
 "cells": [
  {
   "cell_type": "markdown",
   "metadata": {},
   "source": [
    "# Hint on the American Binomial Problem\n",
    "\n",
    "\n",
    "Below I give some hints for how to build the stock price tree and recurse backward through the tree to price the option.\n",
    "\n",
    "<br>\n",
    "\n",
    "First, let's start off by defining some of the commmon data we need:"
   ]
  },
  {
   "cell_type": "code",
   "execution_count": 1,
   "metadata": {
    "collapsed": true
   },
   "outputs": [],
   "source": [
    "S = 41.0\n",
    "K = 40.0\n",
    "v = 0.3\n",
    "r = 0.08\n",
    "q = 0.0 # dividend\n",
    "T = 1.0\n",
    "N = 3\n",
    "dt = T / N"
   ]
  },
  {
   "cell_type": "code",
   "execution_count": 2,
   "metadata": {
    "collapsed": true
   },
   "outputs": [],
   "source": [
    "import numpy as np\n",
    "\n",
    "nodes = N + 1\n",
    "tree = np.zeros((nodes, nodes))"
   ]
  },
  {
   "cell_type": "code",
   "execution_count": 3,
   "metadata": {
    "collapsed": false
   },
   "outputs": [
    {
     "data": {
      "text/plain": [
       "array([[ 0.,  0.,  0.,  0.],\n",
       "       [ 0.,  0.,  0.,  0.],\n",
       "       [ 0.,  0.,  0.,  0.],\n",
       "       [ 0.,  0.,  0.,  0.]])"
      ]
     },
     "execution_count": 3,
     "metadata": {},
     "output_type": "execute_result"
    }
   ],
   "source": [
    "tree"
   ]
  },
  {
   "cell_type": "code",
   "execution_count": 17,
   "metadata": {
    "collapsed": false
   },
   "outputs": [],
   "source": [
    "u = np.exp(((r - q) * dt) + v * np.sqrt(dt)) \n",
    "d = np.exp(((r - q) * dt) - v * np.sqrt(dt))\n",
    "\n",
    "for i in range(nodes):\n",
    "    tree[i,3] = S * (u ** (N - i)) * (d ** i)\n",
    "  "
   ]
  },
  {
   "cell_type": "code",
   "execution_count": 18,
   "metadata": {
    "collapsed": false
   },
   "outputs": [
    {
     "data": {
      "text/plain": [
       "array([[ 41.        ,  50.07109093,  61.14912553,  74.6781323 ],\n",
       "       [  0.        ,  35.4113947 ,  43.24602839,  52.81404438],\n",
       "       [  0.        ,   0.        ,  30.58455792,  37.3512727 ],\n",
       "       [  0.        ,   0.        ,   0.        ,  26.41565494]])"
      ]
     },
     "execution_count": 18,
     "metadata": {},
     "output_type": "execute_result"
    }
   ],
   "source": [
    "tree"
   ]
  },
  {
   "cell_type": "markdown",
   "metadata": {},
   "source": [
    "Okay, so that get's us the terminal set of stock prices. We can also get the option payoffs at these nodes in the standard way (of course). \n",
    "\n",
    "<br>\n",
    "\n",
    "Now let's move backwards in time and fill in the intermediate nodes of the tree. We'll leave the lower triangular part of the matrix as zeros (replace the matrix with a better data structure later on!)"
   ]
  },
  {
   "cell_type": "code",
   "execution_count": 19,
   "metadata": {
    "collapsed": false
   },
   "outputs": [],
   "source": [
    "for i in range(N-1,-1,-1):\n",
    "    for j in range(i+1):\n",
    "        tree[j,i] = tree[j+1,i+1] / d"
   ]
  },
  {
   "cell_type": "code",
   "execution_count": 20,
   "metadata": {
    "collapsed": false
   },
   "outputs": [
    {
     "data": {
      "text/plain": [
       "array([[ 41.        ,  50.07109093,  61.14912553,  74.6781323 ],\n",
       "       [  0.        ,  35.4113947 ,  43.24602839,  52.81404438],\n",
       "       [  0.        ,   0.        ,  30.58455792,  37.3512727 ],\n",
       "       [  0.        ,   0.        ,   0.        ,  26.41565494]])"
      ]
     },
     "execution_count": 20,
     "metadata": {},
     "output_type": "execute_result"
    }
   ],
   "source": [
    "tree"
   ]
  },
  {
   "cell_type": "markdown",
   "metadata": {},
   "source": [
    "Think about how you would apply the option payoff to calculate just the European problem first. Using the single-period risk-neutral binomial model you could build a corresponding option tree. the `[0,0]` index of that tree would store the option price. \n",
    "\n",
    "<br>\n",
    "\n",
    "If you can follow that, then you can think about how to proceed with the American price problem. After this I would suggest these steps:\n",
    "\n",
    "1. Think about what makes the American different than the European option? (*Hint:* early exercise) How can you overlay that aspect on this problem?\n",
    "2. Can you think of a way to simplify the data structure that we are using above? In other words, what can you use instead of two-dimensional ndarray? (*Hint:* once you have moved backwards past a set of nodes you don't need them anymore, so why store them?)"
   ]
  },
  {
   "cell_type": "code",
   "execution_count": null,
   "metadata": {
    "collapsed": true
   },
   "outputs": [],
   "source": []
  }
 ],
 "metadata": {
  "anaconda-cloud": {},
  "kernelspec": {
   "display_name": "Python 3",
   "language": "python",
   "name": "python3"
  },
  "language_info": {
   "codemirror_mode": {
    "name": "ipython",
    "version": 3
   },
   "file_extension": ".py",
   "mimetype": "text/x-python",
   "name": "python",
   "nbconvert_exporter": "python",
   "pygments_lexer": "ipython3",
   "version": "3.5.2"
  }
 },
 "nbformat": 4,
 "nbformat_minor": 1
}
