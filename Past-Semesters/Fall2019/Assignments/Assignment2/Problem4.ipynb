{
 "cells": [
  {
   "cell_type": "code",
   "execution_count": 2,
   "metadata": {},
   "outputs": [],
   "source": [
    "import numpy as np\n",
    "from scipy.stats import binom\n",
    "import matplotlib.pyplot as plt"
   ]
  },
  {
   "cell_type": "code",
   "execution_count": 3,
   "metadata": {},
   "outputs": [],
   "source": [
    "from option import VanillaOption, call_payoff, put_payoff"
   ]
  },
  {
   "cell_type": "code",
   "execution_count": 31,
   "metadata": {},
   "outputs": [],
   "source": [
    "def american_binomial_prob4(option, spot, rate, vol, div, steps):\n",
    "    strike = option.strike\n",
    "    expiry = option.expiry\n",
    "    call_t = 0.0\n",
    "    spot_t = 0.0\n",
    "    h = expiry / steps\n",
    "    num_nodes = steps + 1\n",
    "    #u = np.exp((rate - div) * h + vol * np.sqrt(h))\n",
    "    #d = np.exp((rate - div) * h - vol * np.sqrt(h))\n",
    "    u = 1.3\n",
    "    d = 0.8\n",
    "    pstar = (np.exp(rate * h) - d) / ( u - d)\n",
    "    disc = np.exp(-rate * h) \n",
    "    spot_t = np.zeros((num_nodes, num_nodes))\n",
    "    prc_t = np.zeros((num_nodes, num_nodes))\n",
    "    del_t = np.zeros((num_nodes, num_nodes))\n",
    "    bond_t = np.zeros((num_nodes, num_nodes))\n",
    "    \n",
    "    for j in range(num_nodes):\n",
    "        spot_t[j,-1] = spot * (u ** (steps - j)) * (d ** (j))\n",
    "        prc_t[j, -1] = option.payoff(spot_t[j, -1])\n",
    "\n",
    "    for i in range((steps - 1), -1, -1):\n",
    "        for j in range(i+1):\n",
    "            spot_t[j,i] = spot_t[j,i+1] / u\n",
    "            del_t[j,i] = (prc_t[j,i+1] - prc_t[j+1, i+1]) / (spot_t[j,i] * (u - d))\n",
    "            bond_t[j,i] = disc * (u * prc_t[j+1,i+1] - d * prc_t[j,i+1])/ (u - d)\n",
    "            prc_t[j,i] = del_t[j,i] * spot_t[j,i] + bond_t[j,i]\n",
    "            \n",
    "    return (spot_t, prc_t, del_t, bond_t)"
   ]
  },
  {
   "cell_type": "code",
   "execution_count": 32,
   "metadata": {},
   "outputs": [],
   "source": [
    "spot = 100.0\n",
    "strike = 95.0\n",
    "rate = 0.08\n",
    "expiry = 1.0\n",
    "vol = 0.3\n",
    "div = 0.0\n",
    "u = 1.3\n",
    "d = 0.8\n",
    "steps = 2"
   ]
  },
  {
   "cell_type": "code",
   "execution_count": 13,
   "metadata": {},
   "outputs": [
    {
     "ename": "TypeError",
     "evalue": "unsupported format string passed to numpy.ndarray.__format__",
     "output_type": "error",
     "traceback": [
      "\u001b[0;31m---------------------------------------------------------------------------\u001b[0m",
      "\u001b[0;31mTypeError\u001b[0m                                 Traceback (most recent call last)",
      "\u001b[0;32m<ipython-input-13-b9638f0bbf84>\u001b[0m in \u001b[0;36m<module>\u001b[0;34m\u001b[0m\n\u001b[1;32m      4\u001b[0m     \u001b[0mthe_call\u001b[0m \u001b[0;34m=\u001b[0m \u001b[0mVanillaOption\u001b[0m\u001b[0;34m(\u001b[0m\u001b[0mstrike\u001b[0m\u001b[0;34m,\u001b[0m \u001b[0mexpiry\u001b[0m\u001b[0;34m,\u001b[0m \u001b[0mcall_payoff\u001b[0m\u001b[0;34m)\u001b[0m\u001b[0;34m\u001b[0m\u001b[0;34m\u001b[0m\u001b[0m\n\u001b[1;32m      5\u001b[0m     \u001b[0mprc\u001b[0m\u001b[0;34m,\u001b[0m \u001b[0mdelta\u001b[0m \u001b[0;34m=\u001b[0m \u001b[0mamerican_binomial_prob4\u001b[0m\u001b[0;34m(\u001b[0m\u001b[0mthe_call\u001b[0m\u001b[0;34m,\u001b[0m \u001b[0mspot\u001b[0m\u001b[0;34m,\u001b[0m \u001b[0mrate\u001b[0m\u001b[0;34m,\u001b[0m \u001b[0mvol\u001b[0m\u001b[0;34m,\u001b[0m \u001b[0mdiv\u001b[0m\u001b[0;34m,\u001b[0m \u001b[0msteps\u001b[0m\u001b[0;34m)\u001b[0m\u001b[0;34m\u001b[0m\u001b[0;34m\u001b[0m\u001b[0m\n\u001b[0;32m----> 6\u001b[0;31m     \u001b[0mprint\u001b[0m\u001b[0;34m(\u001b[0m\u001b[0;34mf\"({spot:0.2f}, {prc:0.2f}, {delta:0.2f})\"\u001b[0m\u001b[0;34m)\u001b[0m\u001b[0;34m\u001b[0m\u001b[0;34m\u001b[0m\u001b[0m\n\u001b[0m",
      "\u001b[0;31mTypeError\u001b[0m: unsupported format string passed to numpy.ndarray.__format__"
     ]
    }
   ],
   "source": [
    "spots = [80.0, 90.0, 110.0, 120.0, 130.0]\n",
    "\n",
    "for spot in spots:\n",
    "    the_call = VanillaOption(strike, expiry, call_payoff)\n",
    "    prc, delta = american_binomial_prob4(the_call, spot, rate, vol, div, steps)\n",
    "    print(f\"({spot:0.2f}, {prc:0.2f}, {delta:0.2f})\")"
   ]
  },
  {
   "cell_type": "code",
   "execution_count": 33,
   "metadata": {},
   "outputs": [],
   "source": [
    "the_call = VanillaOption(strike, expiry, call_payoff)\n",
    "spot_t, prc, delta, bond = american_binomial_prob4(the_call, 100.0, rate, vol, div, steps)"
   ]
  },
  {
   "cell_type": "code",
   "execution_count": 34,
   "metadata": {},
   "outputs": [
    {
     "data": {
      "text/plain": [
       "array([[100., 130., 169.],\n",
       "       [  0.,  80., 104.],\n",
       "       [  0.,   0.,  64.]])"
      ]
     },
     "execution_count": 34,
     "metadata": {},
     "output_type": "execute_result"
    }
   ],
   "source": [
    "spot_t"
   ]
  },
  {
   "cell_type": "code",
   "execution_count": 35,
   "metadata": {},
   "outputs": [
    {
     "data": {
      "text/plain": [
       "array([[19.99369346, 38.72500328, 74.        ],\n",
       "       [ 0.        ,  4.16463208,  9.        ],\n",
       "       [ 0.        ,  0.        ,  0.        ]])"
      ]
     },
     "execution_count": 35,
     "metadata": {},
     "output_type": "execute_result"
    }
   ],
   "source": [
    "prc"
   ]
  },
  {
   "cell_type": "code",
   "execution_count": 36,
   "metadata": {},
   "outputs": [
    {
     "data": {
      "text/plain": [
       "array([[0.69120742, 1.        , 0.        ],\n",
       "       [0.        , 0.225     , 0.        ],\n",
       "       [0.        , 0.        , 0.        ]])"
      ]
     },
     "execution_count": 36,
     "metadata": {},
     "output_type": "execute_result"
    }
   ],
   "source": [
    "delta"
   ]
  },
  {
   "cell_type": "code",
   "execution_count": 37,
   "metadata": {},
   "outputs": [
    {
     "data": {
      "text/plain": [
       "array([[-49.12704895, -91.27499672,   0.        ],\n",
       "       [  0.        , -13.83536792,   0.        ],\n",
       "       [  0.        ,   0.        ,   0.        ]])"
      ]
     },
     "execution_count": 37,
     "metadata": {},
     "output_type": "execute_result"
    }
   ],
   "source": [
    "bond"
   ]
  },
  {
   "cell_type": "code",
   "execution_count": 25,
   "metadata": {},
   "outputs": [],
   "source": [
    "tup = (1, 2, 3)"
   ]
  },
  {
   "cell_type": "code",
   "execution_count": 27,
   "metadata": {},
   "outputs": [],
   "source": [
    "a, b, c = tup"
   ]
  },
  {
   "cell_type": "code",
   "execution_count": 28,
   "metadata": {},
   "outputs": [
    {
     "data": {
      "text/plain": [
       "1"
      ]
     },
     "execution_count": 28,
     "metadata": {},
     "output_type": "execute_result"
    }
   ],
   "source": [
    "a"
   ]
  },
  {
   "cell_type": "code",
   "execution_count": 29,
   "metadata": {},
   "outputs": [
    {
     "data": {
      "text/plain": [
       "2"
      ]
     },
     "execution_count": 29,
     "metadata": {},
     "output_type": "execute_result"
    }
   ],
   "source": [
    "b"
   ]
  },
  {
   "cell_type": "code",
   "execution_count": 30,
   "metadata": {},
   "outputs": [
    {
     "data": {
      "text/plain": [
       "3"
      ]
     },
     "execution_count": 30,
     "metadata": {},
     "output_type": "execute_result"
    }
   ],
   "source": [
    "c"
   ]
  },
  {
   "cell_type": "code",
   "execution_count": 38,
   "metadata": {},
   "outputs": [],
   "source": [
    "animals = (\"Dog\", \"Cat\", \"Mouse\")"
   ]
  },
  {
   "cell_type": "code",
   "execution_count": 39,
   "metadata": {},
   "outputs": [
    {
     "data": {
      "text/plain": [
       "('Dog', 'Cat', 'Mouse')"
      ]
     },
     "execution_count": 39,
     "metadata": {},
     "output_type": "execute_result"
    }
   ],
   "source": [
    "animals"
   ]
  },
  {
   "cell_type": "code",
   "execution_count": 42,
   "metadata": {},
   "outputs": [
    {
     "name": "stdout",
     "output_type": "stream",
     "text": [
      "Dog0says: hi\n",
      "Dog0says: hi\n",
      "Cat1says: hi\n",
      "Cat1says: hi\n",
      "Mouse2says: hi\n",
      "Mouse2says: hi\n"
     ]
    }
   ],
   "source": [
    "for i in range(3):\n",
    "    for j in range(2):\n",
    "        print(animals[i] + str(i) + \"says: hi\")"
   ]
  },
  {
   "cell_type": "code",
   "execution_count": null,
   "metadata": {},
   "outputs": [],
   "source": []
  }
 ],
 "metadata": {
  "kernelspec": {
   "display_name": "Python 3",
   "language": "python",
   "name": "python3"
  },
  "language_info": {
   "codemirror_mode": {
    "name": "ipython",
    "version": 3
   },
   "file_extension": ".py",
   "mimetype": "text/x-python",
   "name": "python",
   "nbconvert_exporter": "python",
   "pygments_lexer": "ipython3",
   "version": "3.7.4"
  }
 },
 "nbformat": 4,
 "nbformat_minor": 4
}
